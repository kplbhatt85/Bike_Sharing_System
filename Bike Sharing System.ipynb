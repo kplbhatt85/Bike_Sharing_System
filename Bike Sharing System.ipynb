{
 "cells": [
  {
   "cell_type": "markdown",
   "id": "c9a8a749",
   "metadata": {},
   "source": [
    "# Bike-Sharing System"
   ]
  },
  {
   "cell_type": "markdown",
   "id": "ad458b6b",
   "metadata": {},
   "source": [
    "# Data Understanding:"
   ]
  },
  {
   "cell_type": "code",
   "execution_count": 4,
   "id": "c1e1bc1e",
   "metadata": {},
   "outputs": [
    {
     "data": {
      "text/html": [
       "<div>\n",
       "<style scoped>\n",
       "    .dataframe tbody tr th:only-of-type {\n",
       "        vertical-align: middle;\n",
       "    }\n",
       "\n",
       "    .dataframe tbody tr th {\n",
       "        vertical-align: top;\n",
       "    }\n",
       "\n",
       "    .dataframe thead th {\n",
       "        text-align: right;\n",
       "    }\n",
       "</style>\n",
       "<table border=\"1\" class=\"dataframe\">\n",
       "  <thead>\n",
       "    <tr style=\"text-align: right;\">\n",
       "      <th></th>\n",
       "      <th>instant</th>\n",
       "      <th>dteday</th>\n",
       "      <th>season</th>\n",
       "      <th>yr</th>\n",
       "      <th>mnth</th>\n",
       "      <th>holiday</th>\n",
       "      <th>weekday</th>\n",
       "      <th>workingday</th>\n",
       "      <th>weathersit</th>\n",
       "      <th>temp</th>\n",
       "      <th>atemp</th>\n",
       "      <th>hum</th>\n",
       "      <th>windspeed</th>\n",
       "      <th>casual</th>\n",
       "      <th>registered</th>\n",
       "      <th>cnt</th>\n",
       "    </tr>\n",
       "  </thead>\n",
       "  <tbody>\n",
       "    <tr>\n",
       "      <th>0</th>\n",
       "      <td>1</td>\n",
       "      <td>01-01-2018</td>\n",
       "      <td>1</td>\n",
       "      <td>0</td>\n",
       "      <td>1</td>\n",
       "      <td>0</td>\n",
       "      <td>6</td>\n",
       "      <td>0</td>\n",
       "      <td>2</td>\n",
       "      <td>14.110847</td>\n",
       "      <td>18.18125</td>\n",
       "      <td>80.5833</td>\n",
       "      <td>10.749882</td>\n",
       "      <td>331</td>\n",
       "      <td>654</td>\n",
       "      <td>985</td>\n",
       "    </tr>\n",
       "    <tr>\n",
       "      <th>1</th>\n",
       "      <td>2</td>\n",
       "      <td>02-01-2018</td>\n",
       "      <td>1</td>\n",
       "      <td>0</td>\n",
       "      <td>1</td>\n",
       "      <td>0</td>\n",
       "      <td>0</td>\n",
       "      <td>0</td>\n",
       "      <td>2</td>\n",
       "      <td>14.902598</td>\n",
       "      <td>17.68695</td>\n",
       "      <td>69.6087</td>\n",
       "      <td>16.652113</td>\n",
       "      <td>131</td>\n",
       "      <td>670</td>\n",
       "      <td>801</td>\n",
       "    </tr>\n",
       "    <tr>\n",
       "      <th>2</th>\n",
       "      <td>3</td>\n",
       "      <td>03-01-2018</td>\n",
       "      <td>1</td>\n",
       "      <td>0</td>\n",
       "      <td>1</td>\n",
       "      <td>0</td>\n",
       "      <td>1</td>\n",
       "      <td>1</td>\n",
       "      <td>1</td>\n",
       "      <td>8.050924</td>\n",
       "      <td>9.47025</td>\n",
       "      <td>43.7273</td>\n",
       "      <td>16.636703</td>\n",
       "      <td>120</td>\n",
       "      <td>1229</td>\n",
       "      <td>1349</td>\n",
       "    </tr>\n",
       "    <tr>\n",
       "      <th>3</th>\n",
       "      <td>4</td>\n",
       "      <td>04-01-2018</td>\n",
       "      <td>1</td>\n",
       "      <td>0</td>\n",
       "      <td>1</td>\n",
       "      <td>0</td>\n",
       "      <td>2</td>\n",
       "      <td>1</td>\n",
       "      <td>1</td>\n",
       "      <td>8.200000</td>\n",
       "      <td>10.60610</td>\n",
       "      <td>59.0435</td>\n",
       "      <td>10.739832</td>\n",
       "      <td>108</td>\n",
       "      <td>1454</td>\n",
       "      <td>1562</td>\n",
       "    </tr>\n",
       "    <tr>\n",
       "      <th>4</th>\n",
       "      <td>5</td>\n",
       "      <td>05-01-2018</td>\n",
       "      <td>1</td>\n",
       "      <td>0</td>\n",
       "      <td>1</td>\n",
       "      <td>0</td>\n",
       "      <td>3</td>\n",
       "      <td>1</td>\n",
       "      <td>1</td>\n",
       "      <td>9.305237</td>\n",
       "      <td>11.46350</td>\n",
       "      <td>43.6957</td>\n",
       "      <td>12.522300</td>\n",
       "      <td>82</td>\n",
       "      <td>1518</td>\n",
       "      <td>1600</td>\n",
       "    </tr>\n",
       "  </tbody>\n",
       "</table>\n",
       "</div>"
      ],
      "text/plain": [
       "   instant      dteday  season  yr  mnth  holiday  weekday  workingday  \\\n",
       "0        1  01-01-2018       1   0     1        0        6           0   \n",
       "1        2  02-01-2018       1   0     1        0        0           0   \n",
       "2        3  03-01-2018       1   0     1        0        1           1   \n",
       "3        4  04-01-2018       1   0     1        0        2           1   \n",
       "4        5  05-01-2018       1   0     1        0        3           1   \n",
       "\n",
       "   weathersit       temp     atemp      hum  windspeed  casual  registered  \\\n",
       "0           2  14.110847  18.18125  80.5833  10.749882     331         654   \n",
       "1           2  14.902598  17.68695  69.6087  16.652113     131         670   \n",
       "2           1   8.050924   9.47025  43.7273  16.636703     120        1229   \n",
       "3           1   8.200000  10.60610  59.0435  10.739832     108        1454   \n",
       "4           1   9.305237  11.46350  43.6957  12.522300      82        1518   \n",
       "\n",
       "    cnt  \n",
       "0   985  \n",
       "1   801  \n",
       "2  1349  \n",
       "3  1562  \n",
       "4  1600  "
      ]
     },
     "execution_count": 4,
     "metadata": {},
     "output_type": "execute_result"
    }
   ],
   "source": [
    "# Importing necessary Python libraries for data input and understanding\n",
    "import pandas as pd\n",
    "import numpy as np\n",
    "import matplotlib.pyplot as plt\n",
    "import seaborn as sns\n",
    "\n",
    "import warnings\n",
    "warnings.filterwarnings('ignore')\n",
    "\n",
    "raw_data = pd.read_csv('day.csv')\n",
    "raw_data.head()"
   ]
  },
  {
   "cell_type": "code",
   "execution_count": 84,
   "id": "c6ab9e6d",
   "metadata": {},
   "outputs": [
    {
     "data": {
      "text/plain": [
       "(730, 16)"
      ]
     },
     "execution_count": 84,
     "metadata": {},
     "output_type": "execute_result"
    }
   ],
   "source": [
    "raw_data.shape"
   ]
  },
  {
   "cell_type": "code",
   "execution_count": 85,
   "id": "1776db89",
   "metadata": {},
   "outputs": [
    {
     "data": {
      "text/html": [
       "<div>\n",
       "<style scoped>\n",
       "    .dataframe tbody tr th:only-of-type {\n",
       "        vertical-align: middle;\n",
       "    }\n",
       "\n",
       "    .dataframe tbody tr th {\n",
       "        vertical-align: top;\n",
       "    }\n",
       "\n",
       "    .dataframe thead th {\n",
       "        text-align: right;\n",
       "    }\n",
       "</style>\n",
       "<table border=\"1\" class=\"dataframe\">\n",
       "  <thead>\n",
       "    <tr style=\"text-align: right;\">\n",
       "      <th></th>\n",
       "      <th>instant</th>\n",
       "      <th>season</th>\n",
       "      <th>yr</th>\n",
       "      <th>mnth</th>\n",
       "      <th>holiday</th>\n",
       "      <th>weekday</th>\n",
       "      <th>workingday</th>\n",
       "      <th>weathersit</th>\n",
       "      <th>temp</th>\n",
       "      <th>atemp</th>\n",
       "      <th>hum</th>\n",
       "      <th>windspeed</th>\n",
       "      <th>casual</th>\n",
       "      <th>registered</th>\n",
       "      <th>cnt</th>\n",
       "    </tr>\n",
       "  </thead>\n",
       "  <tbody>\n",
       "    <tr>\n",
       "      <th>count</th>\n",
       "      <td>730.000000</td>\n",
       "      <td>730.000000</td>\n",
       "      <td>730.000000</td>\n",
       "      <td>730.000000</td>\n",
       "      <td>730.000000</td>\n",
       "      <td>730.000000</td>\n",
       "      <td>730.000000</td>\n",
       "      <td>730.000000</td>\n",
       "      <td>730.000000</td>\n",
       "      <td>730.000000</td>\n",
       "      <td>730.000000</td>\n",
       "      <td>730.000000</td>\n",
       "      <td>730.000000</td>\n",
       "      <td>730.000000</td>\n",
       "      <td>730.000000</td>\n",
       "    </tr>\n",
       "    <tr>\n",
       "      <th>mean</th>\n",
       "      <td>365.500000</td>\n",
       "      <td>2.498630</td>\n",
       "      <td>0.500000</td>\n",
       "      <td>6.526027</td>\n",
       "      <td>0.028767</td>\n",
       "      <td>2.997260</td>\n",
       "      <td>0.683562</td>\n",
       "      <td>1.394521</td>\n",
       "      <td>20.319259</td>\n",
       "      <td>23.726322</td>\n",
       "      <td>62.765175</td>\n",
       "      <td>12.763620</td>\n",
       "      <td>849.249315</td>\n",
       "      <td>3658.757534</td>\n",
       "      <td>4508.006849</td>\n",
       "    </tr>\n",
       "    <tr>\n",
       "      <th>std</th>\n",
       "      <td>210.877136</td>\n",
       "      <td>1.110184</td>\n",
       "      <td>0.500343</td>\n",
       "      <td>3.450215</td>\n",
       "      <td>0.167266</td>\n",
       "      <td>2.006161</td>\n",
       "      <td>0.465405</td>\n",
       "      <td>0.544807</td>\n",
       "      <td>7.506729</td>\n",
       "      <td>8.150308</td>\n",
       "      <td>14.237589</td>\n",
       "      <td>5.195841</td>\n",
       "      <td>686.479875</td>\n",
       "      <td>1559.758728</td>\n",
       "      <td>1936.011647</td>\n",
       "    </tr>\n",
       "    <tr>\n",
       "      <th>min</th>\n",
       "      <td>1.000000</td>\n",
       "      <td>1.000000</td>\n",
       "      <td>0.000000</td>\n",
       "      <td>1.000000</td>\n",
       "      <td>0.000000</td>\n",
       "      <td>0.000000</td>\n",
       "      <td>0.000000</td>\n",
       "      <td>1.000000</td>\n",
       "      <td>2.424346</td>\n",
       "      <td>3.953480</td>\n",
       "      <td>0.000000</td>\n",
       "      <td>1.500244</td>\n",
       "      <td>2.000000</td>\n",
       "      <td>20.000000</td>\n",
       "      <td>22.000000</td>\n",
       "    </tr>\n",
       "    <tr>\n",
       "      <th>25%</th>\n",
       "      <td>183.250000</td>\n",
       "      <td>2.000000</td>\n",
       "      <td>0.000000</td>\n",
       "      <td>4.000000</td>\n",
       "      <td>0.000000</td>\n",
       "      <td>1.000000</td>\n",
       "      <td>0.000000</td>\n",
       "      <td>1.000000</td>\n",
       "      <td>13.811885</td>\n",
       "      <td>16.889713</td>\n",
       "      <td>52.000000</td>\n",
       "      <td>9.041650</td>\n",
       "      <td>316.250000</td>\n",
       "      <td>2502.250000</td>\n",
       "      <td>3169.750000</td>\n",
       "    </tr>\n",
       "    <tr>\n",
       "      <th>50%</th>\n",
       "      <td>365.500000</td>\n",
       "      <td>3.000000</td>\n",
       "      <td>0.500000</td>\n",
       "      <td>7.000000</td>\n",
       "      <td>0.000000</td>\n",
       "      <td>3.000000</td>\n",
       "      <td>1.000000</td>\n",
       "      <td>1.000000</td>\n",
       "      <td>20.465826</td>\n",
       "      <td>24.368225</td>\n",
       "      <td>62.625000</td>\n",
       "      <td>12.125325</td>\n",
       "      <td>717.000000</td>\n",
       "      <td>3664.500000</td>\n",
       "      <td>4548.500000</td>\n",
       "    </tr>\n",
       "    <tr>\n",
       "      <th>75%</th>\n",
       "      <td>547.750000</td>\n",
       "      <td>3.000000</td>\n",
       "      <td>1.000000</td>\n",
       "      <td>10.000000</td>\n",
       "      <td>0.000000</td>\n",
       "      <td>5.000000</td>\n",
       "      <td>1.000000</td>\n",
       "      <td>2.000000</td>\n",
       "      <td>26.880615</td>\n",
       "      <td>30.445775</td>\n",
       "      <td>72.989575</td>\n",
       "      <td>15.625589</td>\n",
       "      <td>1096.500000</td>\n",
       "      <td>4783.250000</td>\n",
       "      <td>5966.000000</td>\n",
       "    </tr>\n",
       "    <tr>\n",
       "      <th>max</th>\n",
       "      <td>730.000000</td>\n",
       "      <td>4.000000</td>\n",
       "      <td>1.000000</td>\n",
       "      <td>12.000000</td>\n",
       "      <td>1.000000</td>\n",
       "      <td>6.000000</td>\n",
       "      <td>1.000000</td>\n",
       "      <td>3.000000</td>\n",
       "      <td>35.328347</td>\n",
       "      <td>42.044800</td>\n",
       "      <td>97.250000</td>\n",
       "      <td>34.000021</td>\n",
       "      <td>3410.000000</td>\n",
       "      <td>6946.000000</td>\n",
       "      <td>8714.000000</td>\n",
       "    </tr>\n",
       "  </tbody>\n",
       "</table>\n",
       "</div>"
      ],
      "text/plain": [
       "          instant      season          yr        mnth     holiday     weekday  \\\n",
       "count  730.000000  730.000000  730.000000  730.000000  730.000000  730.000000   \n",
       "mean   365.500000    2.498630    0.500000    6.526027    0.028767    2.997260   \n",
       "std    210.877136    1.110184    0.500343    3.450215    0.167266    2.006161   \n",
       "min      1.000000    1.000000    0.000000    1.000000    0.000000    0.000000   \n",
       "25%    183.250000    2.000000    0.000000    4.000000    0.000000    1.000000   \n",
       "50%    365.500000    3.000000    0.500000    7.000000    0.000000    3.000000   \n",
       "75%    547.750000    3.000000    1.000000   10.000000    0.000000    5.000000   \n",
       "max    730.000000    4.000000    1.000000   12.000000    1.000000    6.000000   \n",
       "\n",
       "       workingday  weathersit        temp       atemp         hum   windspeed  \\\n",
       "count  730.000000  730.000000  730.000000  730.000000  730.000000  730.000000   \n",
       "mean     0.683562    1.394521   20.319259   23.726322   62.765175   12.763620   \n",
       "std      0.465405    0.544807    7.506729    8.150308   14.237589    5.195841   \n",
       "min      0.000000    1.000000    2.424346    3.953480    0.000000    1.500244   \n",
       "25%      0.000000    1.000000   13.811885   16.889713   52.000000    9.041650   \n",
       "50%      1.000000    1.000000   20.465826   24.368225   62.625000   12.125325   \n",
       "75%      1.000000    2.000000   26.880615   30.445775   72.989575   15.625589   \n",
       "max      1.000000    3.000000   35.328347   42.044800   97.250000   34.000021   \n",
       "\n",
       "            casual   registered          cnt  \n",
       "count   730.000000   730.000000   730.000000  \n",
       "mean    849.249315  3658.757534  4508.006849  \n",
       "std     686.479875  1559.758728  1936.011647  \n",
       "min       2.000000    20.000000    22.000000  \n",
       "25%     316.250000  2502.250000  3169.750000  \n",
       "50%     717.000000  3664.500000  4548.500000  \n",
       "75%    1096.500000  4783.250000  5966.000000  \n",
       "max    3410.000000  6946.000000  8714.000000  "
      ]
     },
     "execution_count": 85,
     "metadata": {},
     "output_type": "execute_result"
    }
   ],
   "source": [
    "raw_data.describe()"
   ]
  },
  {
   "cell_type": "code",
   "execution_count": 86,
   "id": "191c384c",
   "metadata": {},
   "outputs": [
    {
     "name": "stdout",
     "output_type": "stream",
     "text": [
      "<class 'pandas.core.frame.DataFrame'>\n",
      "RangeIndex: 730 entries, 0 to 729\n",
      "Data columns (total 16 columns):\n",
      " #   Column      Non-Null Count  Dtype  \n",
      "---  ------      --------------  -----  \n",
      " 0   instant     730 non-null    int64  \n",
      " 1   dteday      730 non-null    object \n",
      " 2   season      730 non-null    int64  \n",
      " 3   yr          730 non-null    int64  \n",
      " 4   mnth        730 non-null    int64  \n",
      " 5   holiday     730 non-null    int64  \n",
      " 6   weekday     730 non-null    int64  \n",
      " 7   workingday  730 non-null    int64  \n",
      " 8   weathersit  730 non-null    int64  \n",
      " 9   temp        730 non-null    float64\n",
      " 10  atemp       730 non-null    float64\n",
      " 11  hum         730 non-null    float64\n",
      " 12  windspeed   730 non-null    float64\n",
      " 13  casual      730 non-null    int64  \n",
      " 14  registered  730 non-null    int64  \n",
      " 15  cnt         730 non-null    int64  \n",
      "dtypes: float64(4), int64(11), object(1)\n",
      "memory usage: 91.4+ KB\n"
     ]
    }
   ],
   "source": [
    "raw_data.info()"
   ]
  },
  {
   "cell_type": "markdown",
   "id": "e59a8631",
   "metadata": {},
   "source": [
    "### The object is to model the demand for shared bikes with available independent variables. Management will use this for understand how exactly the demands vary with different features. "
   ]
  },
  {
   "cell_type": "markdown",
   "id": "06b0c257",
   "metadata": {},
   "source": [
    "#### Seems there is no missing values in the data set.\n",
    "#### Except one column (dteday) all are values are in Integer and Float\n",
    "#### For this data-set we have 3 types of columns:\n",
    "1) Categorical: season, mnth, weekday etc.    \n",
    "2) Continous/Numerical: windspeed, hum, atemp, count etc.    \n",
    "3) Binary: yr, holiday, workingday."
   ]
  },
  {
   "cell_type": "markdown",
   "id": "9eac5bae",
   "metadata": {},
   "source": [
    "# Step 1: Data Cleaning and Manipulation:"
   ]
  },
  {
   "cell_type": "code",
   "execution_count": 5,
   "id": "fec1d29d",
   "metadata": {},
   "outputs": [
    {
     "data": {
      "text/plain": [
       "(730, 12)"
      ]
     },
     "execution_count": 5,
     "metadata": {},
     "output_type": "execute_result"
    }
   ],
   "source": [
    "# Dropping unnecessary columns like: 'instant', 'dteday', 'casual' and 'registered'\n",
    "# Removing 'casual, and 'registered' as 'cnt' is our target variable and casual+registered=cnt \n",
    "raw_data.drop(['instant', 'dteday', 'registered', 'casual'], axis=1, inplace=True)\n",
    "raw_data.shape"
   ]
  },
  {
   "cell_type": "code",
   "execution_count": 6,
   "id": "03583865",
   "metadata": {},
   "outputs": [
    {
     "data": {
      "text/html": [
       "<div>\n",
       "<style scoped>\n",
       "    .dataframe tbody tr th:only-of-type {\n",
       "        vertical-align: middle;\n",
       "    }\n",
       "\n",
       "    .dataframe tbody tr th {\n",
       "        vertical-align: top;\n",
       "    }\n",
       "\n",
       "    .dataframe thead th {\n",
       "        text-align: right;\n",
       "    }\n",
       "</style>\n",
       "<table border=\"1\" class=\"dataframe\">\n",
       "  <thead>\n",
       "    <tr style=\"text-align: right;\">\n",
       "      <th></th>\n",
       "      <th>season</th>\n",
       "      <th>year</th>\n",
       "      <th>month</th>\n",
       "      <th>holiday</th>\n",
       "      <th>weekday</th>\n",
       "      <th>workingday</th>\n",
       "      <th>weathersit</th>\n",
       "      <th>temp</th>\n",
       "      <th>atemp</th>\n",
       "      <th>humidity</th>\n",
       "      <th>windspeed</th>\n",
       "      <th>count</th>\n",
       "    </tr>\n",
       "  </thead>\n",
       "  <tbody>\n",
       "    <tr>\n",
       "      <th>0</th>\n",
       "      <td>1</td>\n",
       "      <td>0</td>\n",
       "      <td>1</td>\n",
       "      <td>0</td>\n",
       "      <td>6</td>\n",
       "      <td>0</td>\n",
       "      <td>2</td>\n",
       "      <td>14.110847</td>\n",
       "      <td>18.18125</td>\n",
       "      <td>80.5833</td>\n",
       "      <td>10.749882</td>\n",
       "      <td>985</td>\n",
       "    </tr>\n",
       "    <tr>\n",
       "      <th>1</th>\n",
       "      <td>1</td>\n",
       "      <td>0</td>\n",
       "      <td>1</td>\n",
       "      <td>0</td>\n",
       "      <td>0</td>\n",
       "      <td>0</td>\n",
       "      <td>2</td>\n",
       "      <td>14.902598</td>\n",
       "      <td>17.68695</td>\n",
       "      <td>69.6087</td>\n",
       "      <td>16.652113</td>\n",
       "      <td>801</td>\n",
       "    </tr>\n",
       "    <tr>\n",
       "      <th>2</th>\n",
       "      <td>1</td>\n",
       "      <td>0</td>\n",
       "      <td>1</td>\n",
       "      <td>0</td>\n",
       "      <td>1</td>\n",
       "      <td>1</td>\n",
       "      <td>1</td>\n",
       "      <td>8.050924</td>\n",
       "      <td>9.47025</td>\n",
       "      <td>43.7273</td>\n",
       "      <td>16.636703</td>\n",
       "      <td>1349</td>\n",
       "    </tr>\n",
       "    <tr>\n",
       "      <th>3</th>\n",
       "      <td>1</td>\n",
       "      <td>0</td>\n",
       "      <td>1</td>\n",
       "      <td>0</td>\n",
       "      <td>2</td>\n",
       "      <td>1</td>\n",
       "      <td>1</td>\n",
       "      <td>8.200000</td>\n",
       "      <td>10.60610</td>\n",
       "      <td>59.0435</td>\n",
       "      <td>10.739832</td>\n",
       "      <td>1562</td>\n",
       "    </tr>\n",
       "    <tr>\n",
       "      <th>4</th>\n",
       "      <td>1</td>\n",
       "      <td>0</td>\n",
       "      <td>1</td>\n",
       "      <td>0</td>\n",
       "      <td>3</td>\n",
       "      <td>1</td>\n",
       "      <td>1</td>\n",
       "      <td>9.305237</td>\n",
       "      <td>11.46350</td>\n",
       "      <td>43.6957</td>\n",
       "      <td>12.522300</td>\n",
       "      <td>1600</td>\n",
       "    </tr>\n",
       "  </tbody>\n",
       "</table>\n",
       "</div>"
      ],
      "text/plain": [
       "   season  year  month  holiday  weekday  workingday  weathersit       temp  \\\n",
       "0       1     0      1        0        6           0           2  14.110847   \n",
       "1       1     0      1        0        0           0           2  14.902598   \n",
       "2       1     0      1        0        1           1           1   8.050924   \n",
       "3       1     0      1        0        2           1           1   8.200000   \n",
       "4       1     0      1        0        3           1           1   9.305237   \n",
       "\n",
       "      atemp  humidity  windspeed  count  \n",
       "0  18.18125   80.5833  10.749882    985  \n",
       "1  17.68695   69.6087  16.652113    801  \n",
       "2   9.47025   43.7273  16.636703   1349  \n",
       "3  10.60610   59.0435  10.739832   1562  \n",
       "4  11.46350   43.6957  12.522300   1600  "
      ]
     },
     "execution_count": 6,
     "metadata": {},
     "output_type": "execute_result"
    }
   ],
   "source": [
    "# Renaming some columns for better understanding\n",
    "raw_data.rename(columns= {'yr': 'year', 'mnth': 'month', 'hum': 'humidity', 'cnt': 'count'}, inplace=True)\n",
    "raw_data.head()"
   ]
  },
  {
   "cell_type": "code",
   "execution_count": 7,
   "id": "aab0f972",
   "metadata": {},
   "outputs": [],
   "source": [
    "# Mapping the categorical columns season as it's category.\n",
    "# Mapping variables season, month, weekday and weathersit\n",
    "raw_data.season = raw_data.season.map({1: 'Spring', 2: 'Summer', 3: 'Fall', 4: 'Winter'})\n",
    "raw_data.month = raw_data.month.map({1:'Jan', 2:'Feb', 3:'Mar', 4:'Apr', 5:'May', 6:'Jun', 7:'Jul', 8:'Aug', 9:'Sep', 10:'Oct', 11:'Nov', 12:'Dec'})\n",
    "raw_data.weekday = raw_data.weekday.map({0:'Sun', 1:'Mon', 2:'Tue', 3:'Wed', 4:'Thu', 5:'Fri', 6:'Sat'})\n",
    "raw_data.weathersit = raw_data.weathersit.map({1:'Clear', 2:'Mist Cloudy', 3:'Snow and Rainy'})"
   ]
  },
  {
   "cell_type": "code",
   "execution_count": 8,
   "id": "1e81074e",
   "metadata": {},
   "outputs": [
    {
     "data": {
      "text/html": [
       "<div>\n",
       "<style scoped>\n",
       "    .dataframe tbody tr th:only-of-type {\n",
       "        vertical-align: middle;\n",
       "    }\n",
       "\n",
       "    .dataframe tbody tr th {\n",
       "        vertical-align: top;\n",
       "    }\n",
       "\n",
       "    .dataframe thead th {\n",
       "        text-align: right;\n",
       "    }\n",
       "</style>\n",
       "<table border=\"1\" class=\"dataframe\">\n",
       "  <thead>\n",
       "    <tr style=\"text-align: right;\">\n",
       "      <th></th>\n",
       "      <th>season</th>\n",
       "      <th>year</th>\n",
       "      <th>month</th>\n",
       "      <th>holiday</th>\n",
       "      <th>weekday</th>\n",
       "      <th>workingday</th>\n",
       "      <th>weathersit</th>\n",
       "      <th>temp</th>\n",
       "      <th>atemp</th>\n",
       "      <th>humidity</th>\n",
       "      <th>windspeed</th>\n",
       "      <th>count</th>\n",
       "    </tr>\n",
       "  </thead>\n",
       "  <tbody>\n",
       "    <tr>\n",
       "      <th>0</th>\n",
       "      <td>Spring</td>\n",
       "      <td>0</td>\n",
       "      <td>Jan</td>\n",
       "      <td>0</td>\n",
       "      <td>Sat</td>\n",
       "      <td>0</td>\n",
       "      <td>Mist Cloudy</td>\n",
       "      <td>14.110847</td>\n",
       "      <td>18.18125</td>\n",
       "      <td>80.5833</td>\n",
       "      <td>10.749882</td>\n",
       "      <td>985</td>\n",
       "    </tr>\n",
       "    <tr>\n",
       "      <th>1</th>\n",
       "      <td>Spring</td>\n",
       "      <td>0</td>\n",
       "      <td>Jan</td>\n",
       "      <td>0</td>\n",
       "      <td>Sun</td>\n",
       "      <td>0</td>\n",
       "      <td>Mist Cloudy</td>\n",
       "      <td>14.902598</td>\n",
       "      <td>17.68695</td>\n",
       "      <td>69.6087</td>\n",
       "      <td>16.652113</td>\n",
       "      <td>801</td>\n",
       "    </tr>\n",
       "    <tr>\n",
       "      <th>2</th>\n",
       "      <td>Spring</td>\n",
       "      <td>0</td>\n",
       "      <td>Jan</td>\n",
       "      <td>0</td>\n",
       "      <td>Mon</td>\n",
       "      <td>1</td>\n",
       "      <td>Clear</td>\n",
       "      <td>8.050924</td>\n",
       "      <td>9.47025</td>\n",
       "      <td>43.7273</td>\n",
       "      <td>16.636703</td>\n",
       "      <td>1349</td>\n",
       "    </tr>\n",
       "    <tr>\n",
       "      <th>3</th>\n",
       "      <td>Spring</td>\n",
       "      <td>0</td>\n",
       "      <td>Jan</td>\n",
       "      <td>0</td>\n",
       "      <td>Tue</td>\n",
       "      <td>1</td>\n",
       "      <td>Clear</td>\n",
       "      <td>8.200000</td>\n",
       "      <td>10.60610</td>\n",
       "      <td>59.0435</td>\n",
       "      <td>10.739832</td>\n",
       "      <td>1562</td>\n",
       "    </tr>\n",
       "    <tr>\n",
       "      <th>4</th>\n",
       "      <td>Spring</td>\n",
       "      <td>0</td>\n",
       "      <td>Jan</td>\n",
       "      <td>0</td>\n",
       "      <td>Wed</td>\n",
       "      <td>1</td>\n",
       "      <td>Clear</td>\n",
       "      <td>9.305237</td>\n",
       "      <td>11.46350</td>\n",
       "      <td>43.6957</td>\n",
       "      <td>12.522300</td>\n",
       "      <td>1600</td>\n",
       "    </tr>\n",
       "  </tbody>\n",
       "</table>\n",
       "</div>"
      ],
      "text/plain": [
       "   season  year month  holiday weekday  workingday   weathersit       temp  \\\n",
       "0  Spring     0   Jan        0     Sat           0  Mist Cloudy  14.110847   \n",
       "1  Spring     0   Jan        0     Sun           0  Mist Cloudy  14.902598   \n",
       "2  Spring     0   Jan        0     Mon           1        Clear   8.050924   \n",
       "3  Spring     0   Jan        0     Tue           1        Clear   8.200000   \n",
       "4  Spring     0   Jan        0     Wed           1        Clear   9.305237   \n",
       "\n",
       "      atemp  humidity  windspeed  count  \n",
       "0  18.18125   80.5833  10.749882    985  \n",
       "1  17.68695   69.6087  16.652113    801  \n",
       "2   9.47025   43.7273  16.636703   1349  \n",
       "3  10.60610   59.0435  10.739832   1562  \n",
       "4  11.46350   43.6957  12.522300   1600  "
      ]
     },
     "execution_count": 8,
     "metadata": {},
     "output_type": "execute_result"
    }
   ],
   "source": [
    "# Copying/Storing the data into new Data-Frame\n",
    "bikes = raw_data.copy()\n",
    "bikes.head()"
   ]
  },
  {
   "cell_type": "markdown",
   "id": "7f64d0a9",
   "metadata": {},
   "source": [
    "# Step 2: Data Visualization"
   ]
  },
  {
   "cell_type": "markdown",
   "id": "eccb7c89",
   "metadata": {},
   "source": [
    "## Performing EDA:"
   ]
  },
  {
   "cell_type": "code",
   "execution_count": 10,
   "id": "4bfd7148",
   "metadata": {},
   "outputs": [
    {
     "data": {
      "image/png": "[encoded data removed]",
      "text/plain": [
       "<Figure size 900x900 with 30 Axes>"
      ]
     },
     "metadata": {
      "needs_background": "light"
     },
     "output_type": "display_data"
    }
   ],
   "source": [
    "# Pairplot for Numeric Variables\n",
    "sns.pairplot(bikes, vars=['temp', 'atemp', 'humidity', 'windspeed', 'count'])\n",
    "plt.show()"
   ]
  },
  {
   "cell_type": "code",
   "execution_count": 92,
   "id": "e0d51d8a",
   "metadata": {},
   "outputs": [
    {
     "data": {
      "image/png": "[encoded data removed]",
      "text/plain": [
       "<Figure size 720x576 with 2 Axes>"
      ]
     },
     "metadata": {
      "needs_background": "light"
     },
     "output_type": "display_data"
    }
   ],
   "source": [
    "# Checking the correlation between variables\n",
    "plt.figure(figsize= (10,8))\n",
    "sns.heatmap(bikes.corr(), annot=True)\n",
    "plt.show()"
   ]
  },
  {
   "cell_type": "code",
   "execution_count": 9,
   "id": "1d8a3753",
   "metadata": {},
   "outputs": [
    {
     "data": {
      "image/png": "[encoded data removed]",
      "text/plain": [
       "<Figure size 1728x1008 with 7 Axes>"
      ]
     },
     "metadata": {
      "needs_background": "light"
     },
     "output_type": "display_data"
    }
   ],
   "source": [
    "# Visualizing categorical Variables to understand data better\n",
    "plt.figure(figsize=(24, 14))\n",
    "\n",
    "plt.subplot(3,3,1)\n",
    "sns.boxplot(x = 'year', y = 'count', data=bikes)\n",
    "\n",
    "plt.subplot(3,3,2)\n",
    "sns.boxplot(x = 'holiday', y = 'count', data=bikes)\n",
    "\n",
    "plt.subplot(3,3,3)\n",
    "sns.boxplot(x = 'workingday', y = 'count', data=bikes)\n",
    "\n",
    "plt.subplot(3,3,4)\n",
    "sns.boxplot(x = 'weathersit', y = 'count', data=bikes)\n",
    "\n",
    "plt.subplot(3,3,5)\n",
    "sns.boxplot(x = 'month', y = 'count', data=bikes)\n",
    "\n",
    "plt.subplot(3,3,6)\n",
    "sns.boxplot(x = 'weekday', y = 'count', data=bikes)\n",
    "\n",
    "plt.subplot(3,3,7)\n",
    "sns.boxplot(x = 'season', y = 'count', data=bikes)\n",
    "\n",
    "plt.show()"
   ]
  },
  {
   "cell_type": "code",
   "execution_count": 94,
   "id": "632c0b02",
   "metadata": {},
   "outputs": [
    {
     "data": {
      "text/plain": [
       "<AxesSubplot:xlabel='season', ylabel='count'>"
      ]
     },
     "execution_count": 94,
     "metadata": {},
     "output_type": "execute_result"
    },
    {
     "data": {
      "image/png": "[encoded data removed]",
      "text/plain": [
       "<Figure size 432x288 with 1 Axes>"
      ]
     },
     "metadata": {
      "needs_background": "light"
     },
     "output_type": "display_data"
    }
   ],
   "source": [
    "# Relationship between Season and Count of Bike rentals\n",
    "sns.barplot('season','count', data=bikes, palette=\"tab10\")"
   ]
  },
  {
   "cell_type": "code",
   "execution_count": 95,
   "id": "5c5c7ebe",
   "metadata": {},
   "outputs": [
    {
     "data": {
      "text/plain": [
       "<AxesSubplot:xlabel='weathersit', ylabel='count'>"
      ]
     },
     "execution_count": 95,
     "metadata": {},
     "output_type": "execute_result"
    },
    {
     "data": {
      "image/png": "[encoded data removed]",
      "text/plain": [
       "<Figure size 432x288 with 1 Axes>"
      ]
     },
     "metadata": {
      "needs_background": "light"
     },
     "output_type": "display_data"
    }
   ],
   "source": [
    "# Relationship between weathersit and count of Bike rentals\n",
    "sns.barplot('weathersit','count', data=bikes, palette=\"tab10\")"
   ]
  },
  {
   "cell_type": "code",
   "execution_count": 96,
   "id": "2f697204",
   "metadata": {},
   "outputs": [
    {
     "data": {
      "text/plain": [
       "<AxesSubplot:xlabel='year', ylabel='count'>"
      ]
     },
     "execution_count": 96,
     "metadata": {},
     "output_type": "execute_result"
    },
    {
     "data": {
      "image/png": "[encoded data removed]",
      "text/plain": [
       "<Figure size 432x288 with 1 Axes>"
      ]
     },
     "metadata": {
      "needs_background": "light"
     },
     "output_type": "display_data"
    }
   ],
   "source": [
    "# Relationship between year and count of Bike rentals\n",
    "sns.barplot('year','count', data=bikes, palette=\"tab10\")"
   ]
  },
  {
   "cell_type": "code",
   "execution_count": 97,
   "id": "9dc4cd8e",
   "metadata": {},
   "outputs": [
    {
     "data": {
      "text/plain": [
       "<AxesSubplot:xlabel='weekday', ylabel='count'>"
      ]
     },
     "execution_count": 97,
     "metadata": {},
     "output_type": "execute_result"
    },
    {
     "data": {
      "image/png": "[encoded data removed]",
      "text/plain": [
       "<Figure size 432x288 with 1 Axes>"
      ]
     },
     "metadata": {
      "needs_background": "light"
     },
     "output_type": "display_data"
    }
   ],
   "source": [
    "# Relationship between weekday and count of Bike rentals\n",
    "sns.barplot('weekday','count', data=bikes, palette=\"tab10\")"
   ]
  },
  {
   "cell_type": "code",
   "execution_count": 98,
   "id": "dbc4bff9",
   "metadata": {},
   "outputs": [
    {
     "data": {
      "text/plain": [
       "<AxesSubplot:xlabel='month', ylabel='count'>"
      ]
     },
     "execution_count": 98,
     "metadata": {},
     "output_type": "execute_result"
    },
    {
     "data": {
      "image/png": "[encoded data removed]",
      "text/plain": [
       "<Figure size 432x288 with 1 Axes>"
      ]
     },
     "metadata": {
      "needs_background": "light"
     },
     "output_type": "display_data"
    }
   ],
   "source": [
    "# Relationship between months and count of Bike rentals\n",
    "sns.barplot('month','count', data=bikes, palette=\"tab10\")"
   ]
  },
  {
   "cell_type": "markdown",
   "id": "464b0383",
   "metadata": {},
   "source": [
    "### Insights/highlights from above plots:"
   ]
  },
  {
   "cell_type": "markdown",
   "id": "2fcaae0c",
   "metadata": {},
   "source": [
    "#### Pair-plot shows shows there is a Linear Relationship between 'temp' and 'atemp'.\n",
    "#### As Bike-Rental Count shows a Positive Corelation between 'temp' and 'atemp' so bike rental counts increase at Higher temp and vice-versa\n",
    "#### Both of the parameters can't be used in the model due to Multicollinearity.\n",
    "#### Most of the bookings has been done during months of June, July, August and September\n",
    "#### Clear weather also have more bookings"
   ]
  },
  {
   "cell_type": "markdown",
   "id": "dba88f1d",
   "metadata": {},
   "source": [
    "# Step 3: Data Preparation"
   ]
  },
  {
   "cell_type": "markdown",
   "id": "0c011c9b",
   "metadata": {},
   "source": [
    "#### Create dummy variables for all the categorical variables:"
   ]
  },
  {
   "cell_type": "code",
   "execution_count": 99,
   "id": "29e45489",
   "metadata": {},
   "outputs": [],
   "source": [
    "# Dummy variables for season, month, weekday and weathersit\n",
    "season_bikes = pd.get_dummies(bikes.season, drop_first=True)\n",
    "month_bikes = pd.get_dummies(bikes.month, drop_first=True)\n",
    "weekday_bikes = pd.get_dummies(bikes.weekday, drop_first=True)\n",
    "weathersit_bikes = pd.get_dummies(bikes.weathersit, drop_first=True)"
   ]
  },
  {
   "cell_type": "code",
   "execution_count": 100,
   "id": "6493e73e",
   "metadata": {},
   "outputs": [
    {
     "data": {
      "text/html": [
       "<div>\n",
       "<style scoped>\n",
       "    .dataframe tbody tr th:only-of-type {\n",
       "        vertical-align: middle;\n",
       "    }\n",
       "\n",
       "    .dataframe tbody tr th {\n",
       "        vertical-align: top;\n",
       "    }\n",
       "\n",
       "    .dataframe thead th {\n",
       "        text-align: right;\n",
       "    }\n",
       "</style>\n",
       "<table border=\"1\" class=\"dataframe\">\n",
       "  <thead>\n",
       "    <tr style=\"text-align: right;\">\n",
       "      <th></th>\n",
       "      <th>season</th>\n",
       "      <th>year</th>\n",
       "      <th>month</th>\n",
       "      <th>holiday</th>\n",
       "      <th>weekday</th>\n",
       "      <th>workingday</th>\n",
       "      <th>weathersit</th>\n",
       "      <th>temp</th>\n",
       "      <th>atemp</th>\n",
       "      <th>humidity</th>\n",
       "      <th>...</th>\n",
       "      <th>Oct</th>\n",
       "      <th>Sep</th>\n",
       "      <th>Mon</th>\n",
       "      <th>Sat</th>\n",
       "      <th>Sun</th>\n",
       "      <th>Thu</th>\n",
       "      <th>Tue</th>\n",
       "      <th>Wed</th>\n",
       "      <th>Mist Cloudy</th>\n",
       "      <th>Snow and Rainy</th>\n",
       "    </tr>\n",
       "  </thead>\n",
       "  <tbody>\n",
       "    <tr>\n",
       "      <th>0</th>\n",
       "      <td>Spring</td>\n",
       "      <td>0</td>\n",
       "      <td>Jan</td>\n",
       "      <td>0</td>\n",
       "      <td>Sat</td>\n",
       "      <td>0</td>\n",
       "      <td>Mist Cloudy</td>\n",
       "      <td>14.110847</td>\n",
       "      <td>18.18125</td>\n",
       "      <td>80.5833</td>\n",
       "      <td>...</td>\n",
       "      <td>0</td>\n",
       "      <td>0</td>\n",
       "      <td>0</td>\n",
       "      <td>1</td>\n",
       "      <td>0</td>\n",
       "      <td>0</td>\n",
       "      <td>0</td>\n",
       "      <td>0</td>\n",
       "      <td>1</td>\n",
       "      <td>0</td>\n",
       "    </tr>\n",
       "    <tr>\n",
       "      <th>1</th>\n",
       "      <td>Spring</td>\n",
       "      <td>0</td>\n",
       "      <td>Jan</td>\n",
       "      <td>0</td>\n",
       "      <td>Sun</td>\n",
       "      <td>0</td>\n",
       "      <td>Mist Cloudy</td>\n",
       "      <td>14.902598</td>\n",
       "      <td>17.68695</td>\n",
       "      <td>69.6087</td>\n",
       "      <td>...</td>\n",
       "      <td>0</td>\n",
       "      <td>0</td>\n",
       "      <td>0</td>\n",
       "      <td>0</td>\n",
       "      <td>1</td>\n",
       "      <td>0</td>\n",
       "      <td>0</td>\n",
       "      <td>0</td>\n",
       "      <td>1</td>\n",
       "      <td>0</td>\n",
       "    </tr>\n",
       "    <tr>\n",
       "      <th>2</th>\n",
       "      <td>Spring</td>\n",
       "      <td>0</td>\n",
       "      <td>Jan</td>\n",
       "      <td>0</td>\n",
       "      <td>Mon</td>\n",
       "      <td>1</td>\n",
       "      <td>Clear</td>\n",
       "      <td>8.050924</td>\n",
       "      <td>9.47025</td>\n",
       "      <td>43.7273</td>\n",
       "      <td>...</td>\n",
       "      <td>0</td>\n",
       "      <td>0</td>\n",
       "      <td>1</td>\n",
       "      <td>0</td>\n",
       "      <td>0</td>\n",
       "      <td>0</td>\n",
       "      <td>0</td>\n",
       "      <td>0</td>\n",
       "      <td>0</td>\n",
       "      <td>0</td>\n",
       "    </tr>\n",
       "    <tr>\n",
       "      <th>3</th>\n",
       "      <td>Spring</td>\n",
       "      <td>0</td>\n",
       "      <td>Jan</td>\n",
       "      <td>0</td>\n",
       "      <td>Tue</td>\n",
       "      <td>1</td>\n",
       "      <td>Clear</td>\n",
       "      <td>8.200000</td>\n",
       "      <td>10.60610</td>\n",
       "      <td>59.0435</td>\n",
       "      <td>...</td>\n",
       "      <td>0</td>\n",
       "      <td>0</td>\n",
       "      <td>0</td>\n",
       "      <td>0</td>\n",
       "      <td>0</td>\n",
       "      <td>0</td>\n",
       "      <td>1</td>\n",
       "      <td>0</td>\n",
       "      <td>0</td>\n",
       "      <td>0</td>\n",
       "    </tr>\n",
       "    <tr>\n",
       "      <th>4</th>\n",
       "      <td>Spring</td>\n",
       "      <td>0</td>\n",
       "      <td>Jan</td>\n",
       "      <td>0</td>\n",
       "      <td>Wed</td>\n",
       "      <td>1</td>\n",
       "      <td>Clear</td>\n",
       "      <td>9.305237</td>\n",
       "      <td>11.46350</td>\n",
       "      <td>43.6957</td>\n",
       "      <td>...</td>\n",
       "      <td>0</td>\n",
       "      <td>0</td>\n",
       "      <td>0</td>\n",
       "      <td>0</td>\n",
       "      <td>0</td>\n",
       "      <td>0</td>\n",
       "      <td>0</td>\n",
       "      <td>1</td>\n",
       "      <td>0</td>\n",
       "      <td>0</td>\n",
       "    </tr>\n",
       "  </tbody>\n",
       "</table>\n",
       "<p>5 rows × 34 columns</p>\n",
       "</div>"
      ],
      "text/plain": [
       "   season  year month  holiday weekday  workingday   weathersit       temp  \\\n",
       "0  Spring     0   Jan        0     Sat           0  Mist Cloudy  14.110847   \n",
       "1  Spring     0   Jan        0     Sun           0  Mist Cloudy  14.902598   \n",
       "2  Spring     0   Jan        0     Mon           1        Clear   8.050924   \n",
       "3  Spring     0   Jan        0     Tue           1        Clear   8.200000   \n",
       "4  Spring     0   Jan        0     Wed           1        Clear   9.305237   \n",
       "\n",
       "      atemp  humidity  ...  Oct  Sep  Mon  Sat  Sun  Thu  Tue  Wed  \\\n",
       "0  18.18125   80.5833  ...    0    0    0    1    0    0    0    0   \n",
       "1  17.68695   69.6087  ...    0    0    0    0    1    0    0    0   \n",
       "2   9.47025   43.7273  ...    0    0    1    0    0    0    0    0   \n",
       "3  10.60610   59.0435  ...    0    0    0    0    0    0    1    0   \n",
       "4  11.46350   43.6957  ...    0    0    0    0    0    0    0    1   \n",
       "\n",
       "   Mist Cloudy  Snow and Rainy  \n",
       "0            1               0  \n",
       "1            1               0  \n",
       "2            0               0  \n",
       "3            0               0  \n",
       "4            0               0  \n",
       "\n",
       "[5 rows x 34 columns]"
      ]
     },
     "execution_count": 100,
     "metadata": {},
     "output_type": "execute_result"
    }
   ],
   "source": [
    "# Merge the results from above to orignal data-frame\n",
    "bikes = pd.concat([bikes,season_bikes,month_bikes,weekday_bikes,weathersit_bikes], axis=1)\n",
    "bikes.head()"
   ]
  },
  {
   "cell_type": "code",
   "execution_count": 101,
   "id": "4313a41e",
   "metadata": {},
   "outputs": [
    {
     "data": {
      "text/html": [
       "<div>\n",
       "<style scoped>\n",
       "    .dataframe tbody tr th:only-of-type {\n",
       "        vertical-align: middle;\n",
       "    }\n",
       "\n",
       "    .dataframe tbody tr th {\n",
       "        vertical-align: top;\n",
       "    }\n",
       "\n",
       "    .dataframe thead th {\n",
       "        text-align: right;\n",
       "    }\n",
       "</style>\n",
       "<table border=\"1\" class=\"dataframe\">\n",
       "  <thead>\n",
       "    <tr style=\"text-align: right;\">\n",
       "      <th></th>\n",
       "      <th>year</th>\n",
       "      <th>holiday</th>\n",
       "      <th>workingday</th>\n",
       "      <th>temp</th>\n",
       "      <th>atemp</th>\n",
       "      <th>humidity</th>\n",
       "      <th>windspeed</th>\n",
       "      <th>count</th>\n",
       "      <th>Spring</th>\n",
       "      <th>Summer</th>\n",
       "      <th>...</th>\n",
       "      <th>Oct</th>\n",
       "      <th>Sep</th>\n",
       "      <th>Mon</th>\n",
       "      <th>Sat</th>\n",
       "      <th>Sun</th>\n",
       "      <th>Thu</th>\n",
       "      <th>Tue</th>\n",
       "      <th>Wed</th>\n",
       "      <th>Mist Cloudy</th>\n",
       "      <th>Snow and Rainy</th>\n",
       "    </tr>\n",
       "  </thead>\n",
       "  <tbody>\n",
       "    <tr>\n",
       "      <th>0</th>\n",
       "      <td>0</td>\n",
       "      <td>0</td>\n",
       "      <td>0</td>\n",
       "      <td>14.110847</td>\n",
       "      <td>18.18125</td>\n",
       "      <td>80.5833</td>\n",
       "      <td>10.749882</td>\n",
       "      <td>985</td>\n",
       "      <td>1</td>\n",
       "      <td>0</td>\n",
       "      <td>...</td>\n",
       "      <td>0</td>\n",
       "      <td>0</td>\n",
       "      <td>0</td>\n",
       "      <td>1</td>\n",
       "      <td>0</td>\n",
       "      <td>0</td>\n",
       "      <td>0</td>\n",
       "      <td>0</td>\n",
       "      <td>1</td>\n",
       "      <td>0</td>\n",
       "    </tr>\n",
       "    <tr>\n",
       "      <th>1</th>\n",
       "      <td>0</td>\n",
       "      <td>0</td>\n",
       "      <td>0</td>\n",
       "      <td>14.902598</td>\n",
       "      <td>17.68695</td>\n",
       "      <td>69.6087</td>\n",
       "      <td>16.652113</td>\n",
       "      <td>801</td>\n",
       "      <td>1</td>\n",
       "      <td>0</td>\n",
       "      <td>...</td>\n",
       "      <td>0</td>\n",
       "      <td>0</td>\n",
       "      <td>0</td>\n",
       "      <td>0</td>\n",
       "      <td>1</td>\n",
       "      <td>0</td>\n",
       "      <td>0</td>\n",
       "      <td>0</td>\n",
       "      <td>1</td>\n",
       "      <td>0</td>\n",
       "    </tr>\n",
       "    <tr>\n",
       "      <th>2</th>\n",
       "      <td>0</td>\n",
       "      <td>0</td>\n",
       "      <td>1</td>\n",
       "      <td>8.050924</td>\n",
       "      <td>9.47025</td>\n",
       "      <td>43.7273</td>\n",
       "      <td>16.636703</td>\n",
       "      <td>1349</td>\n",
       "      <td>1</td>\n",
       "      <td>0</td>\n",
       "      <td>...</td>\n",
       "      <td>0</td>\n",
       "      <td>0</td>\n",
       "      <td>1</td>\n",
       "      <td>0</td>\n",
       "      <td>0</td>\n",
       "      <td>0</td>\n",
       "      <td>0</td>\n",
       "      <td>0</td>\n",
       "      <td>0</td>\n",
       "      <td>0</td>\n",
       "    </tr>\n",
       "    <tr>\n",
       "      <th>3</th>\n",
       "      <td>0</td>\n",
       "      <td>0</td>\n",
       "      <td>1</td>\n",
       "      <td>8.200000</td>\n",
       "      <td>10.60610</td>\n",
       "      <td>59.0435</td>\n",
       "      <td>10.739832</td>\n",
       "      <td>1562</td>\n",
       "      <td>1</td>\n",
       "      <td>0</td>\n",
       "      <td>...</td>\n",
       "      <td>0</td>\n",
       "      <td>0</td>\n",
       "      <td>0</td>\n",
       "      <td>0</td>\n",
       "      <td>0</td>\n",
       "      <td>0</td>\n",
       "      <td>1</td>\n",
       "      <td>0</td>\n",
       "      <td>0</td>\n",
       "      <td>0</td>\n",
       "    </tr>\n",
       "    <tr>\n",
       "      <th>4</th>\n",
       "      <td>0</td>\n",
       "      <td>0</td>\n",
       "      <td>1</td>\n",
       "      <td>9.305237</td>\n",
       "      <td>11.46350</td>\n",
       "      <td>43.6957</td>\n",
       "      <td>12.522300</td>\n",
       "      <td>1600</td>\n",
       "      <td>1</td>\n",
       "      <td>0</td>\n",
       "      <td>...</td>\n",
       "      <td>0</td>\n",
       "      <td>0</td>\n",
       "      <td>0</td>\n",
       "      <td>0</td>\n",
       "      <td>0</td>\n",
       "      <td>0</td>\n",
       "      <td>0</td>\n",
       "      <td>1</td>\n",
       "      <td>0</td>\n",
       "      <td>0</td>\n",
       "    </tr>\n",
       "  </tbody>\n",
       "</table>\n",
       "<p>5 rows × 30 columns</p>\n",
       "</div>"
      ],
      "text/plain": [
       "   year  holiday  workingday       temp     atemp  humidity  windspeed  count  \\\n",
       "0     0        0           0  14.110847  18.18125   80.5833  10.749882    985   \n",
       "1     0        0           0  14.902598  17.68695   69.6087  16.652113    801   \n",
       "2     0        0           1   8.050924   9.47025   43.7273  16.636703   1349   \n",
       "3     0        0           1   8.200000  10.60610   59.0435  10.739832   1562   \n",
       "4     0        0           1   9.305237  11.46350   43.6957  12.522300   1600   \n",
       "\n",
       "   Spring  Summer  ...  Oct  Sep  Mon  Sat  Sun  Thu  Tue  Wed  Mist Cloudy  \\\n",
       "0       1       0  ...    0    0    0    1    0    0    0    0            1   \n",
       "1       1       0  ...    0    0    0    0    1    0    0    0            1   \n",
       "2       1       0  ...    0    0    1    0    0    0    0    0            0   \n",
       "3       1       0  ...    0    0    0    0    0    0    1    0            0   \n",
       "4       1       0  ...    0    0    0    0    0    0    0    1            0   \n",
       "\n",
       "   Snow and Rainy  \n",
       "0               0  \n",
       "1               0  \n",
       "2               0  \n",
       "3               0  \n",
       "4               0  \n",
       "\n",
       "[5 rows x 30 columns]"
      ]
     },
     "execution_count": 101,
     "metadata": {},
     "output_type": "execute_result"
    }
   ],
   "source": [
    "# Dropping the Categorical variables as they are already dummy encoded\n",
    "bikes.drop(['season','month','weekday','weathersit'], axis=1, inplace=True)\n",
    "bikes.head()"
   ]
  },
  {
   "cell_type": "code",
   "execution_count": 102,
   "id": "84d4d1b9",
   "metadata": {},
   "outputs": [
    {
     "data": {
      "text/plain": [
       "(730, 30)"
      ]
     },
     "execution_count": 102,
     "metadata": {},
     "output_type": "execute_result"
    }
   ],
   "source": [
    "bikes.shape"
   ]
  },
  {
   "cell_type": "markdown",
   "id": "81885087",
   "metadata": {},
   "source": [
    "#### Dividing the data into Train and Test sets:"
   ]
  },
  {
   "cell_type": "code",
   "execution_count": 103,
   "id": "f6a73793",
   "metadata": {},
   "outputs": [],
   "source": [
    "from sklearn.model_selection import train_test_split\n",
    "\n",
    "np.random.seed(0)\n",
    "bikes_train, bikes_test = train_test_split(bikes, train_size=0.7, random_state=100)"
   ]
  },
  {
   "cell_type": "code",
   "execution_count": 104,
   "id": "21155273",
   "metadata": {},
   "outputs": [
    {
     "data": {
      "text/plain": [
       "(510, 30)"
      ]
     },
     "execution_count": 104,
     "metadata": {},
     "output_type": "execute_result"
    }
   ],
   "source": [
    "bikes_train.shape"
   ]
  },
  {
   "cell_type": "code",
   "execution_count": 105,
   "id": "513a68c0",
   "metadata": {},
   "outputs": [
    {
     "data": {
      "text/plain": [
       "(220, 30)"
      ]
     },
     "execution_count": 105,
     "metadata": {},
     "output_type": "execute_result"
    }
   ],
   "source": [
    "bikes_test.shape"
   ]
  },
  {
   "cell_type": "markdown",
   "id": "5be721a3",
   "metadata": {},
   "source": [
    "#### Performing Scaling:\n",
    "\n",
    "##### It is important to have all variables in same scale.\n",
    "##### Can use Standardization and Normalization so that all the units of the coefficients are on same scale. "
   ]
  },
  {
   "cell_type": "markdown",
   "id": "66cac79d",
   "metadata": {},
   "source": [
    "##### 2 common ways of scaling are:\n",
    "1) Min-Max Scaling (Normalization): Between 0 and 1\n",
    "\n",
    "2) Standardization: mean-0, sigma-1"
   ]
  },
  {
   "cell_type": "code",
   "execution_count": 106,
   "id": "d1215006",
   "metadata": {},
   "outputs": [],
   "source": [
    "# Using MinMaxScaler for rescalings the feature\n",
    "from sklearn.preprocessing import MinMaxScaler\n",
    "scaler = MinMaxScaler()"
   ]
  },
  {
   "cell_type": "code",
   "execution_count": 107,
   "id": "0849de34",
   "metadata": {},
   "outputs": [
    {
     "data": {
      "text/html": [
       "<div>\n",
       "<style scoped>\n",
       "    .dataframe tbody tr th:only-of-type {\n",
       "        vertical-align: middle;\n",
       "    }\n",
       "\n",
       "    .dataframe tbody tr th {\n",
       "        vertical-align: top;\n",
       "    }\n",
       "\n",
       "    .dataframe thead th {\n",
       "        text-align: right;\n",
       "    }\n",
       "</style>\n",
       "<table border=\"1\" class=\"dataframe\">\n",
       "  <thead>\n",
       "    <tr style=\"text-align: right;\">\n",
       "      <th></th>\n",
       "      <th>year</th>\n",
       "      <th>holiday</th>\n",
       "      <th>workingday</th>\n",
       "      <th>temp</th>\n",
       "      <th>atemp</th>\n",
       "      <th>humidity</th>\n",
       "      <th>windspeed</th>\n",
       "      <th>count</th>\n",
       "      <th>Spring</th>\n",
       "      <th>Summer</th>\n",
       "      <th>...</th>\n",
       "      <th>Oct</th>\n",
       "      <th>Sep</th>\n",
       "      <th>Mon</th>\n",
       "      <th>Sat</th>\n",
       "      <th>Sun</th>\n",
       "      <th>Thu</th>\n",
       "      <th>Tue</th>\n",
       "      <th>Wed</th>\n",
       "      <th>Mist Cloudy</th>\n",
       "      <th>Snow and Rainy</th>\n",
       "    </tr>\n",
       "  </thead>\n",
       "  <tbody>\n",
       "    <tr>\n",
       "      <th>576</th>\n",
       "      <td>1</td>\n",
       "      <td>0</td>\n",
       "      <td>1</td>\n",
       "      <td>0.815169</td>\n",
       "      <td>0.766351</td>\n",
       "      <td>0.725633</td>\n",
       "      <td>0.264686</td>\n",
       "      <td>0.827658</td>\n",
       "      <td>0</td>\n",
       "      <td>0</td>\n",
       "      <td>...</td>\n",
       "      <td>0</td>\n",
       "      <td>0</td>\n",
       "      <td>0</td>\n",
       "      <td>0</td>\n",
       "      <td>0</td>\n",
       "      <td>0</td>\n",
       "      <td>1</td>\n",
       "      <td>0</td>\n",
       "      <td>0</td>\n",
       "      <td>0</td>\n",
       "    </tr>\n",
       "    <tr>\n",
       "      <th>426</th>\n",
       "      <td>1</td>\n",
       "      <td>0</td>\n",
       "      <td>0</td>\n",
       "      <td>0.442393</td>\n",
       "      <td>0.438975</td>\n",
       "      <td>0.640189</td>\n",
       "      <td>0.255342</td>\n",
       "      <td>0.465255</td>\n",
       "      <td>1</td>\n",
       "      <td>0</td>\n",
       "      <td>...</td>\n",
       "      <td>0</td>\n",
       "      <td>0</td>\n",
       "      <td>0</td>\n",
       "      <td>1</td>\n",
       "      <td>0</td>\n",
       "      <td>0</td>\n",
       "      <td>0</td>\n",
       "      <td>0</td>\n",
       "      <td>1</td>\n",
       "      <td>0</td>\n",
       "    </tr>\n",
       "    <tr>\n",
       "      <th>728</th>\n",
       "      <td>1</td>\n",
       "      <td>0</td>\n",
       "      <td>0</td>\n",
       "      <td>0.245101</td>\n",
       "      <td>0.200348</td>\n",
       "      <td>0.498067</td>\n",
       "      <td>0.663106</td>\n",
       "      <td>0.204096</td>\n",
       "      <td>1</td>\n",
       "      <td>0</td>\n",
       "      <td>...</td>\n",
       "      <td>0</td>\n",
       "      <td>0</td>\n",
       "      <td>0</td>\n",
       "      <td>0</td>\n",
       "      <td>1</td>\n",
       "      <td>0</td>\n",
       "      <td>0</td>\n",
       "      <td>0</td>\n",
       "      <td>0</td>\n",
       "      <td>0</td>\n",
       "    </tr>\n",
       "    <tr>\n",
       "      <th>482</th>\n",
       "      <td>1</td>\n",
       "      <td>0</td>\n",
       "      <td>0</td>\n",
       "      <td>0.395666</td>\n",
       "      <td>0.391735</td>\n",
       "      <td>0.504508</td>\n",
       "      <td>0.188475</td>\n",
       "      <td>0.482973</td>\n",
       "      <td>0</td>\n",
       "      <td>1</td>\n",
       "      <td>...</td>\n",
       "      <td>0</td>\n",
       "      <td>0</td>\n",
       "      <td>0</td>\n",
       "      <td>1</td>\n",
       "      <td>0</td>\n",
       "      <td>0</td>\n",
       "      <td>0</td>\n",
       "      <td>0</td>\n",
       "      <td>1</td>\n",
       "      <td>0</td>\n",
       "    </tr>\n",
       "    <tr>\n",
       "      <th>111</th>\n",
       "      <td>0</td>\n",
       "      <td>0</td>\n",
       "      <td>1</td>\n",
       "      <td>0.345824</td>\n",
       "      <td>0.318819</td>\n",
       "      <td>0.751824</td>\n",
       "      <td>0.380981</td>\n",
       "      <td>0.191095</td>\n",
       "      <td>0</td>\n",
       "      <td>1</td>\n",
       "      <td>...</td>\n",
       "      <td>0</td>\n",
       "      <td>0</td>\n",
       "      <td>0</td>\n",
       "      <td>0</td>\n",
       "      <td>0</td>\n",
       "      <td>0</td>\n",
       "      <td>0</td>\n",
       "      <td>0</td>\n",
       "      <td>1</td>\n",
       "      <td>0</td>\n",
       "    </tr>\n",
       "  </tbody>\n",
       "</table>\n",
       "<p>5 rows × 30 columns</p>\n",
       "</div>"
      ],
      "text/plain": [
       "     year  holiday  workingday      temp     atemp  humidity  windspeed  \\\n",
       "576     1        0           1  0.815169  0.766351  0.725633   0.264686   \n",
       "426     1        0           0  0.442393  0.438975  0.640189   0.255342   \n",
       "728     1        0           0  0.245101  0.200348  0.498067   0.663106   \n",
       "482     1        0           0  0.395666  0.391735  0.504508   0.188475   \n",
       "111     0        0           1  0.345824  0.318819  0.751824   0.380981   \n",
       "\n",
       "        count  Spring  Summer  ...  Oct  Sep  Mon  Sat  Sun  Thu  Tue  Wed  \\\n",
       "576  0.827658       0       0  ...    0    0    0    0    0    0    1    0   \n",
       "426  0.465255       1       0  ...    0    0    0    1    0    0    0    0   \n",
       "728  0.204096       1       0  ...    0    0    0    0    1    0    0    0   \n",
       "482  0.482973       0       1  ...    0    0    0    1    0    0    0    0   \n",
       "111  0.191095       0       1  ...    0    0    0    0    0    0    0    0   \n",
       "\n",
       "     Mist Cloudy  Snow and Rainy  \n",
       "576            0               0  \n",
       "426            1               0  \n",
       "728            0               0  \n",
       "482            1               0  \n",
       "111            1               0  \n",
       "\n",
       "[5 rows x 30 columns]"
      ]
     },
     "execution_count": 107,
     "metadata": {},
     "output_type": "execute_result"
    }
   ],
   "source": [
    "# Apply Scaler on all the Numeric variables\n",
    "num_vars = ['temp','atemp','humidity','windspeed','count']\n",
    "bikes_train[num_vars] = scaler.fit_transform(bikes_train[num_vars])\n",
    "bikes_train.head()"
   ]
  },
  {
   "cell_type": "markdown",
   "id": "b7163d20",
   "metadata": {},
   "source": [
    "#### Dividing data into Dependent and Independent variable"
   ]
  },
  {
   "cell_type": "code",
   "execution_count": 108,
   "id": "361b3d44",
   "metadata": {},
   "outputs": [],
   "source": [
    "# Dividing into X and Y sets for model building\n",
    "y_train = bikes_train.pop('count')\n",
    "X_train = bikes_train"
   ]
  },
  {
   "cell_type": "code",
   "execution_count": 109,
   "id": "72ac6d00",
   "metadata": {},
   "outputs": [
    {
     "data": {
      "text/plain": [
       "576    0.827658\n",
       "426    0.465255\n",
       "728    0.204096\n",
       "482    0.482973\n",
       "111    0.191095\n",
       "Name: count, dtype: float64"
      ]
     },
     "execution_count": 109,
     "metadata": {},
     "output_type": "execute_result"
    }
   ],
   "source": [
    "y_train.head()"
   ]
  },
  {
   "cell_type": "code",
   "execution_count": 110,
   "id": "4b41a195",
   "metadata": {},
   "outputs": [
    {
     "data": {
      "text/html": [
       "<div>\n",
       "<style scoped>\n",
       "    .dataframe tbody tr th:only-of-type {\n",
       "        vertical-align: middle;\n",
       "    }\n",
       "\n",
       "    .dataframe tbody tr th {\n",
       "        vertical-align: top;\n",
       "    }\n",
       "\n",
       "    .dataframe thead th {\n",
       "        text-align: right;\n",
       "    }\n",
       "</style>\n",
       "<table border=\"1\" class=\"dataframe\">\n",
       "  <thead>\n",
       "    <tr style=\"text-align: right;\">\n",
       "      <th></th>\n",
       "      <th>year</th>\n",
       "      <th>holiday</th>\n",
       "      <th>workingday</th>\n",
       "      <th>temp</th>\n",
       "      <th>atemp</th>\n",
       "      <th>humidity</th>\n",
       "      <th>windspeed</th>\n",
       "      <th>Spring</th>\n",
       "      <th>Summer</th>\n",
       "      <th>Winter</th>\n",
       "      <th>...</th>\n",
       "      <th>Oct</th>\n",
       "      <th>Sep</th>\n",
       "      <th>Mon</th>\n",
       "      <th>Sat</th>\n",
       "      <th>Sun</th>\n",
       "      <th>Thu</th>\n",
       "      <th>Tue</th>\n",
       "      <th>Wed</th>\n",
       "      <th>Mist Cloudy</th>\n",
       "      <th>Snow and Rainy</th>\n",
       "    </tr>\n",
       "  </thead>\n",
       "  <tbody>\n",
       "    <tr>\n",
       "      <th>576</th>\n",
       "      <td>1</td>\n",
       "      <td>0</td>\n",
       "      <td>1</td>\n",
       "      <td>0.815169</td>\n",
       "      <td>0.766351</td>\n",
       "      <td>0.725633</td>\n",
       "      <td>0.264686</td>\n",
       "      <td>0</td>\n",
       "      <td>0</td>\n",
       "      <td>0</td>\n",
       "      <td>...</td>\n",
       "      <td>0</td>\n",
       "      <td>0</td>\n",
       "      <td>0</td>\n",
       "      <td>0</td>\n",
       "      <td>0</td>\n",
       "      <td>0</td>\n",
       "      <td>1</td>\n",
       "      <td>0</td>\n",
       "      <td>0</td>\n",
       "      <td>0</td>\n",
       "    </tr>\n",
       "    <tr>\n",
       "      <th>426</th>\n",
       "      <td>1</td>\n",
       "      <td>0</td>\n",
       "      <td>0</td>\n",
       "      <td>0.442393</td>\n",
       "      <td>0.438975</td>\n",
       "      <td>0.640189</td>\n",
       "      <td>0.255342</td>\n",
       "      <td>1</td>\n",
       "      <td>0</td>\n",
       "      <td>0</td>\n",
       "      <td>...</td>\n",
       "      <td>0</td>\n",
       "      <td>0</td>\n",
       "      <td>0</td>\n",
       "      <td>1</td>\n",
       "      <td>0</td>\n",
       "      <td>0</td>\n",
       "      <td>0</td>\n",
       "      <td>0</td>\n",
       "      <td>1</td>\n",
       "      <td>0</td>\n",
       "    </tr>\n",
       "    <tr>\n",
       "      <th>728</th>\n",
       "      <td>1</td>\n",
       "      <td>0</td>\n",
       "      <td>0</td>\n",
       "      <td>0.245101</td>\n",
       "      <td>0.200348</td>\n",
       "      <td>0.498067</td>\n",
       "      <td>0.663106</td>\n",
       "      <td>1</td>\n",
       "      <td>0</td>\n",
       "      <td>0</td>\n",
       "      <td>...</td>\n",
       "      <td>0</td>\n",
       "      <td>0</td>\n",
       "      <td>0</td>\n",
       "      <td>0</td>\n",
       "      <td>1</td>\n",
       "      <td>0</td>\n",
       "      <td>0</td>\n",
       "      <td>0</td>\n",
       "      <td>0</td>\n",
       "      <td>0</td>\n",
       "    </tr>\n",
       "    <tr>\n",
       "      <th>482</th>\n",
       "      <td>1</td>\n",
       "      <td>0</td>\n",
       "      <td>0</td>\n",
       "      <td>0.395666</td>\n",
       "      <td>0.391735</td>\n",
       "      <td>0.504508</td>\n",
       "      <td>0.188475</td>\n",
       "      <td>0</td>\n",
       "      <td>1</td>\n",
       "      <td>0</td>\n",
       "      <td>...</td>\n",
       "      <td>0</td>\n",
       "      <td>0</td>\n",
       "      <td>0</td>\n",
       "      <td>1</td>\n",
       "      <td>0</td>\n",
       "      <td>0</td>\n",
       "      <td>0</td>\n",
       "      <td>0</td>\n",
       "      <td>1</td>\n",
       "      <td>0</td>\n",
       "    </tr>\n",
       "    <tr>\n",
       "      <th>111</th>\n",
       "      <td>0</td>\n",
       "      <td>0</td>\n",
       "      <td>1</td>\n",
       "      <td>0.345824</td>\n",
       "      <td>0.318819</td>\n",
       "      <td>0.751824</td>\n",
       "      <td>0.380981</td>\n",
       "      <td>0</td>\n",
       "      <td>1</td>\n",
       "      <td>0</td>\n",
       "      <td>...</td>\n",
       "      <td>0</td>\n",
       "      <td>0</td>\n",
       "      <td>0</td>\n",
       "      <td>0</td>\n",
       "      <td>0</td>\n",
       "      <td>0</td>\n",
       "      <td>0</td>\n",
       "      <td>0</td>\n",
       "      <td>1</td>\n",
       "      <td>0</td>\n",
       "    </tr>\n",
       "  </tbody>\n",
       "</table>\n",
       "<p>5 rows × 29 columns</p>\n",
       "</div>"
      ],
      "text/plain": [
       "     year  holiday  workingday      temp     atemp  humidity  windspeed  \\\n",
       "576     1        0           1  0.815169  0.766351  0.725633   0.264686   \n",
       "426     1        0           0  0.442393  0.438975  0.640189   0.255342   \n",
       "728     1        0           0  0.245101  0.200348  0.498067   0.663106   \n",
       "482     1        0           0  0.395666  0.391735  0.504508   0.188475   \n",
       "111     0        0           1  0.345824  0.318819  0.751824   0.380981   \n",
       "\n",
       "     Spring  Summer  Winter  ...  Oct  Sep  Mon  Sat  Sun  Thu  Tue  Wed  \\\n",
       "576       0       0       0  ...    0    0    0    0    0    0    1    0   \n",
       "426       1       0       0  ...    0    0    0    1    0    0    0    0   \n",
       "728       1       0       0  ...    0    0    0    0    1    0    0    0   \n",
       "482       0       1       0  ...    0    0    0    1    0    0    0    0   \n",
       "111       0       1       0  ...    0    0    0    0    0    0    0    0   \n",
       "\n",
       "     Mist Cloudy  Snow and Rainy  \n",
       "576            0               0  \n",
       "426            1               0  \n",
       "728            0               0  \n",
       "482            1               0  \n",
       "111            1               0  \n",
       "\n",
       "[5 rows x 29 columns]"
      ]
     },
     "execution_count": 110,
     "metadata": {},
     "output_type": "execute_result"
    }
   ],
   "source": [
    "X_train.head()"
   ]
  },
  {
   "cell_type": "markdown",
   "id": "0bd0e1c2",
   "metadata": {},
   "source": [
    "# Step 4: Data Modeling and Evaluation"
   ]
  },
  {
   "cell_type": "markdown",
   "id": "339beb0a",
   "metadata": {},
   "source": [
    "#### Create Linear Regression Model:"
   ]
  },
  {
   "cell_type": "markdown",
   "id": "7b05f9c7",
   "metadata": {},
   "source": [
    "##### RFE (Recursive Feature Elimination) for automated feature selection: "
   ]
  },
  {
   "cell_type": "code",
   "execution_count": 111,
   "id": "d118c223",
   "metadata": {},
   "outputs": [],
   "source": [
    "# Import RFE and LinearRegression\n",
    "from sklearn.feature_selection import RFE\n",
    "from sklearn.linear_model import LinearRegression"
   ]
  },
  {
   "cell_type": "code",
   "execution_count": 112,
   "id": "ba56043d",
   "metadata": {},
   "outputs": [
    {
     "data": {
      "text/plain": [
       "LinearRegression()"
      ]
     },
     "execution_count": 112,
     "metadata": {},
     "output_type": "execute_result"
    }
   ],
   "source": [
    "# Running RFE with output number of 15 variables\n",
    "lm = LinearRegression()\n",
    "lm.fit(X_train, y_train)"
   ]
  },
  {
   "cell_type": "code",
   "execution_count": 113,
   "id": "dbe28216",
   "metadata": {},
   "outputs": [],
   "source": [
    "rfe = RFE(lm, step=15)\n",
    "rfe = rfe.fit(X_train, y_train)"
   ]
  },
  {
   "cell_type": "code",
   "execution_count": 114,
   "id": "79ccd219",
   "metadata": {},
   "outputs": [
    {
     "data": {
      "text/plain": [
       "[('year', True, 1),\n",
       " ('holiday', True, 1),\n",
       " ('workingday', True, 1),\n",
       " ('temp', True, 1),\n",
       " ('atemp', True, 1),\n",
       " ('humidity', True, 1),\n",
       " ('windspeed', True, 1),\n",
       " ('Spring', False, 2),\n",
       " ('Summer', False, 2),\n",
       " ('Winter', True, 1),\n",
       " ('Aug', False, 2),\n",
       " ('Dec', False, 2),\n",
       " ('Feb', False, 2),\n",
       " ('Jan', True, 1),\n",
       " ('Jul', False, 2),\n",
       " ('Jun', False, 2),\n",
       " ('Mar', False, 2),\n",
       " ('May', False, 2),\n",
       " ('Nov', False, 2),\n",
       " ('Oct', False, 2),\n",
       " ('Sep', True, 1),\n",
       " ('Mon', False, 2),\n",
       " ('Sat', True, 1),\n",
       " ('Sun', True, 1),\n",
       " ('Thu', False, 2),\n",
       " ('Tue', False, 2),\n",
       " ('Wed', False, 2),\n",
       " ('Mist Cloudy', True, 1),\n",
       " ('Snow and Rainy', True, 1)]"
      ]
     },
     "execution_count": 114,
     "metadata": {},
     "output_type": "execute_result"
    }
   ],
   "source": [
    "# List the selected 15 variables\n",
    "list(zip(X_train.columns,rfe.support_,rfe.ranking_))"
   ]
  },
  {
   "cell_type": "code",
   "execution_count": 115,
   "id": "f4dfadc4",
   "metadata": {},
   "outputs": [
    {
     "data": {
      "text/plain": [
       "Index(['year', 'holiday', 'workingday', 'temp', 'atemp', 'humidity',\n",
       "       'windspeed', 'Winter', 'Jan', 'Sep', 'Sat', 'Sun', 'Mist Cloudy',\n",
       "       'Snow and Rainy'],\n",
       "      dtype='object')"
      ]
     },
     "execution_count": 115,
     "metadata": {},
     "output_type": "execute_result"
    }
   ],
   "source": [
    "# Variables where RFE support is True\n",
    "col = X_train.columns[rfe.support_]\n",
    "col"
   ]
  },
  {
   "cell_type": "code",
   "execution_count": 116,
   "id": "e5a9d19c",
   "metadata": {},
   "outputs": [
    {
     "data": {
      "text/plain": [
       "Index(['Spring', 'Summer', 'Aug', 'Dec', 'Feb', 'Jul', 'Jun', 'Mar', 'May',\n",
       "       'Nov', 'Oct', 'Mon', 'Thu', 'Tue', 'Wed'],\n",
       "      dtype='object')"
      ]
     },
     "execution_count": 116,
     "metadata": {},
     "output_type": "execute_result"
    }
   ],
   "source": [
    "# Variables where RFE support is False\n",
    "X_train.columns[~rfe.support_]"
   ]
  },
  {
   "cell_type": "markdown",
   "id": "a933bdbc",
   "metadata": {},
   "source": [
    "##### Building model using STATS MODEL\n",
    "###### Model 1"
   ]
  },
  {
   "cell_type": "code",
   "execution_count": 117,
   "id": "ec59b5fa",
   "metadata": {},
   "outputs": [],
   "source": [
    "# Creating X_test dataframe where with RFE selected variables\n",
    "X_train_rfe = X_train[col]"
   ]
  },
  {
   "cell_type": "code",
   "execution_count": 118,
   "id": "3c84fce8",
   "metadata": {},
   "outputs": [],
   "source": [
    "# Adding a constant variable\n",
    "import statsmodels.api as sm\n",
    "X_train_rfe = sm.add_constant(X_train_rfe)"
   ]
  },
  {
   "cell_type": "code",
   "execution_count": 119,
   "id": "5bc877bb",
   "metadata": {},
   "outputs": [],
   "source": [
    "# Running the Linear Model\n",
    "lm1 = sm.OLS(y_train, X_train_rfe).fit()"
   ]
  },
  {
   "cell_type": "code",
   "execution_count": 120,
   "id": "e938aefc",
   "metadata": {},
   "outputs": [
    {
     "name": "stdout",
     "output_type": "stream",
     "text": [
      "                            OLS Regression Results                            \n",
      "==============================================================================\n",
      "Dep. Variable:                  count   R-squared:                       0.824\n",
      "Model:                            OLS   Adj. R-squared:                  0.820\n",
      "Method:                 Least Squares   F-statistic:                     179.0\n",
      "Date:                Tue, 15 Mar 2022   Prob (F-statistic):          9.40e-178\n",
      "Time:                        13:24:22   Log-Likelihood:                 482.37\n",
      "No. Observations:                 510   AIC:                            -936.7\n",
      "Df Residuals:                     496   BIC:                            -877.5\n",
      "Df Model:                          13                                         \n",
      "Covariance Type:            nonrobust                                         \n",
      "==================================================================================\n",
      "                     coef    std err          t      P>|t|      [0.025      0.975]\n",
      "----------------------------------------------------------------------------------\n",
      "const              0.1821      0.024      7.492      0.000       0.134       0.230\n",
      "year               0.2315      0.009     27.005      0.000       0.215       0.248\n",
      "holiday           -0.0258      0.022     -1.158      0.247      -0.070       0.018\n",
      "workingday         0.0820      0.010      8.614      0.000       0.063       0.101\n",
      "temp               0.4288      0.134      3.200      0.001       0.166       0.692\n",
      "atemp              0.1118      0.143      0.782      0.434      -0.169       0.393\n",
      "humidity          -0.1382      0.040     -3.481      0.001      -0.216      -0.060\n",
      "windspeed         -0.1729      0.027     -6.293      0.000      -0.227      -0.119\n",
      "Winter             0.0950      0.011      8.500      0.000       0.073       0.117\n",
      "Jan               -0.0769      0.018     -4.305      0.000      -0.112      -0.042\n",
      "Sep                0.0768      0.016      4.782      0.000       0.045       0.108\n",
      "Sat                0.0903      0.012      7.648      0.000       0.067       0.114\n",
      "Sun                0.0355      0.012      2.861      0.004       0.011       0.060\n",
      "Mist Cloudy       -0.0518      0.011     -4.677      0.000      -0.074      -0.030\n",
      "Snow and Rainy    -0.2524      0.028     -9.040      0.000      -0.307      -0.198\n",
      "==============================================================================\n",
      "Omnibus:                       49.807   Durbin-Watson:                   2.059\n",
      "Prob(Omnibus):                  0.000   Jarque-Bera (JB):               98.098\n",
      "Skew:                          -0.580   Prob(JB):                     4.99e-22\n",
      "Kurtosis:                       4.808   Cond. No.                     3.61e+15\n",
      "==============================================================================\n",
      "\n",
      "Notes:\n",
      "[1] Standard Errors assume that the covariance matrix of the errors is correctly specified.\n",
      "[2] The smallest eigenvalue is 1.22e-28. This might indicate that there are\n",
      "strong multicollinearity problems or that the design matrix is singular.\n"
     ]
    }
   ],
   "source": [
    "print(lm1.summary())"
   ]
  },
  {
   "cell_type": "markdown",
   "id": "da3a511a",
   "metadata": {},
   "source": [
    "###### Only atemp and holiday seems higher p-value more then 0.05 which is 0.434 and 0.247"
   ]
  },
  {
   "cell_type": "code",
   "execution_count": 121,
   "id": "3bd65f5e",
   "metadata": {},
   "outputs": [],
   "source": [
    "# Removing the atemp and holiday\n",
    "X_train_new = X_train_rfe.drop(['atemp', 'holiday'], axis=1)"
   ]
  },
  {
   "cell_type": "markdown",
   "id": "33ca977a",
   "metadata": {},
   "source": [
    "#### Checking VIF (Variance Inflation Factor)"
   ]
  },
  {
   "cell_type": "code",
   "execution_count": 122,
   "id": "bdb8217d",
   "metadata": {},
   "outputs": [
    {
     "data": {
      "text/html": [
       "<div>\n",
       "<style scoped>\n",
       "    .dataframe tbody tr th:only-of-type {\n",
       "        vertical-align: middle;\n",
       "    }\n",
       "\n",
       "    .dataframe tbody tr th {\n",
       "        vertical-align: top;\n",
       "    }\n",
       "\n",
       "    .dataframe thead th {\n",
       "        text-align: right;\n",
       "    }\n",
       "</style>\n",
       "<table border=\"1\" class=\"dataframe\">\n",
       "  <thead>\n",
       "    <tr style=\"text-align: right;\">\n",
       "      <th></th>\n",
       "      <th>Features</th>\n",
       "      <th>VIF</th>\n",
       "    </tr>\n",
       "  </thead>\n",
       "  <tbody>\n",
       "    <tr>\n",
       "      <th>0</th>\n",
       "      <td>const</td>\n",
       "      <td>87.37</td>\n",
       "    </tr>\n",
       "    <tr>\n",
       "      <th>2</th>\n",
       "      <td>workingday</td>\n",
       "      <td>9.06</td>\n",
       "    </tr>\n",
       "    <tr>\n",
       "      <th>9</th>\n",
       "      <td>Sat</td>\n",
       "      <td>6.05</td>\n",
       "    </tr>\n",
       "    <tr>\n",
       "      <th>10</th>\n",
       "      <td>Sun</td>\n",
       "      <td>5.73</td>\n",
       "    </tr>\n",
       "    <tr>\n",
       "      <th>4</th>\n",
       "      <td>humidity</td>\n",
       "      <td>1.87</td>\n",
       "    </tr>\n",
       "    <tr>\n",
       "      <th>3</th>\n",
       "      <td>temp</td>\n",
       "      <td>1.71</td>\n",
       "    </tr>\n",
       "    <tr>\n",
       "      <th>11</th>\n",
       "      <td>Mist Cloudy</td>\n",
       "      <td>1.56</td>\n",
       "    </tr>\n",
       "    <tr>\n",
       "      <th>7</th>\n",
       "      <td>Jan</td>\n",
       "      <td>1.44</td>\n",
       "    </tr>\n",
       "    <tr>\n",
       "      <th>6</th>\n",
       "      <td>Winter</td>\n",
       "      <td>1.30</td>\n",
       "    </tr>\n",
       "    <tr>\n",
       "      <th>12</th>\n",
       "      <td>Snow and Rainy</td>\n",
       "      <td>1.24</td>\n",
       "    </tr>\n",
       "    <tr>\n",
       "      <th>5</th>\n",
       "      <td>windspeed</td>\n",
       "      <td>1.19</td>\n",
       "    </tr>\n",
       "    <tr>\n",
       "      <th>8</th>\n",
       "      <td>Sep</td>\n",
       "      <td>1.07</td>\n",
       "    </tr>\n",
       "    <tr>\n",
       "      <th>1</th>\n",
       "      <td>year</td>\n",
       "      <td>1.03</td>\n",
       "    </tr>\n",
       "  </tbody>\n",
       "</table>\n",
       "</div>"
      ],
      "text/plain": [
       "          Features    VIF\n",
       "0            const  87.37\n",
       "2       workingday   9.06\n",
       "9              Sat   6.05\n",
       "10             Sun   5.73\n",
       "4         humidity   1.87\n",
       "3             temp   1.71\n",
       "11     Mist Cloudy   1.56\n",
       "7              Jan   1.44\n",
       "6           Winter   1.30\n",
       "12  Snow and Rainy   1.24\n",
       "5        windspeed   1.19\n",
       "8              Sep   1.07\n",
       "1             year   1.03"
      ]
     },
     "execution_count": 122,
     "metadata": {},
     "output_type": "execute_result"
    }
   ],
   "source": [
    "from statsmodels.stats.outliers_influence import variance_inflation_factor\n",
    "\n",
    "# Creating a Data-frame for store all the feature variables and their VIF\n",
    "vif = pd.DataFrame()\n",
    "vif['Features'] = X_train_new.columns\n",
    "vif['VIF'] = [variance_inflation_factor(X_train_new.values, i) for i in range(X_train_new.shape[1])]\n",
    "vif['VIF'] = round(vif['VIF'], 2)\n",
    "vif = vif.sort_values(by = \"VIF\", ascending=False)\n",
    "vif"
   ]
  },
  {
   "cell_type": "markdown",
   "id": "bfc971c3",
   "metadata": {},
   "source": [
    "##### Results shows the VIF value for const is very high so we can drop the const"
   ]
  },
  {
   "cell_type": "code",
   "execution_count": 123,
   "id": "89fd3da8",
   "metadata": {},
   "outputs": [],
   "source": [
    "# Dropping the const variable\n",
    "X_train_new = X_train_new.drop(['const'], axis=1)"
   ]
  },
  {
   "cell_type": "markdown",
   "id": "f30eeafe",
   "metadata": {},
   "source": [
    "##### Model 2: Rebuilding the model without the const"
   ]
  },
  {
   "cell_type": "code",
   "execution_count": 124,
   "id": "96b6ebf2",
   "metadata": {},
   "outputs": [
    {
     "data": {
      "text/html": [
       "<div>\n",
       "<style scoped>\n",
       "    .dataframe tbody tr th:only-of-type {\n",
       "        vertical-align: middle;\n",
       "    }\n",
       "\n",
       "    .dataframe tbody tr th {\n",
       "        vertical-align: top;\n",
       "    }\n",
       "\n",
       "    .dataframe thead th {\n",
       "        text-align: right;\n",
       "    }\n",
       "</style>\n",
       "<table border=\"1\" class=\"dataframe\">\n",
       "  <thead>\n",
       "    <tr style=\"text-align: right;\">\n",
       "      <th></th>\n",
       "      <th>Features</th>\n",
       "      <th>VIF</th>\n",
       "    </tr>\n",
       "  </thead>\n",
       "  <tbody>\n",
       "    <tr>\n",
       "      <th>3</th>\n",
       "      <td>humidity</td>\n",
       "      <td>26.65</td>\n",
       "    </tr>\n",
       "    <tr>\n",
       "      <th>1</th>\n",
       "      <td>workingday</td>\n",
       "      <td>15.91</td>\n",
       "    </tr>\n",
       "    <tr>\n",
       "      <th>2</th>\n",
       "      <td>temp</td>\n",
       "      <td>10.81</td>\n",
       "    </tr>\n",
       "    <tr>\n",
       "      <th>8</th>\n",
       "      <td>Sat</td>\n",
       "      <td>4.33</td>\n",
       "    </tr>\n",
       "    <tr>\n",
       "      <th>4</th>\n",
       "      <td>windspeed</td>\n",
       "      <td>4.28</td>\n",
       "    </tr>\n",
       "    <tr>\n",
       "      <th>9</th>\n",
       "      <td>Sun</td>\n",
       "      <td>4.23</td>\n",
       "    </tr>\n",
       "    <tr>\n",
       "      <th>10</th>\n",
       "      <td>Mist Cloudy</td>\n",
       "      <td>2.21</td>\n",
       "    </tr>\n",
       "    <tr>\n",
       "      <th>0</th>\n",
       "      <td>year</td>\n",
       "      <td>2.07</td>\n",
       "    </tr>\n",
       "    <tr>\n",
       "      <th>5</th>\n",
       "      <td>Winter</td>\n",
       "      <td>1.68</td>\n",
       "    </tr>\n",
       "    <tr>\n",
       "      <th>6</th>\n",
       "      <td>Jan</td>\n",
       "      <td>1.49</td>\n",
       "    </tr>\n",
       "    <tr>\n",
       "      <th>11</th>\n",
       "      <td>Snow and Rainy</td>\n",
       "      <td>1.21</td>\n",
       "    </tr>\n",
       "    <tr>\n",
       "      <th>7</th>\n",
       "      <td>Sep</td>\n",
       "      <td>1.16</td>\n",
       "    </tr>\n",
       "  </tbody>\n",
       "</table>\n",
       "</div>"
      ],
      "text/plain": [
       "          Features    VIF\n",
       "3         humidity  26.65\n",
       "1       workingday  15.91\n",
       "2             temp  10.81\n",
       "8              Sat   4.33\n",
       "4        windspeed   4.28\n",
       "9              Sun   4.23\n",
       "10     Mist Cloudy   2.21\n",
       "0             year   2.07\n",
       "5           Winter   1.68\n",
       "6              Jan   1.49\n",
       "11  Snow and Rainy   1.21\n",
       "7              Sep   1.16"
      ]
     },
     "execution_count": 124,
     "metadata": {},
     "output_type": "execute_result"
    }
   ],
   "source": [
    "# Calculating VIF for the new model\n",
    "vif = pd.DataFrame()\n",
    "vif['Features'] = X_train_new.columns\n",
    "vif['VIF'] = [variance_inflation_factor(X_train_new.values, i) for i in range(X_train_new.shape[1])]\n",
    "vif['VIF'] = round(vif['VIF'], 2)\n",
    "vif = vif.sort_values(by = \"VIF\", ascending=False)\n",
    "vif"
   ]
  },
  {
   "cell_type": "code",
   "execution_count": 125,
   "id": "5ea3183a",
   "metadata": {},
   "outputs": [],
   "source": [
    "#Adding a const variable\n",
    "X_train_lm2 = sm.add_constant(X_train_new)\n",
    "\n",
    "#Running the Linear Model\n",
    "lm2 = sm.OLS(y_train, X_train_lm2).fit()"
   ]
  },
  {
   "cell_type": "code",
   "execution_count": 126,
   "id": "620838ca",
   "metadata": {},
   "outputs": [
    {
     "name": "stdout",
     "output_type": "stream",
     "text": [
      "                            OLS Regression Results                            \n",
      "==============================================================================\n",
      "Dep. Variable:                  count   R-squared:                       0.824\n",
      "Model:                            OLS   Adj. R-squared:                  0.820\n",
      "Method:                 Least Squares   F-statistic:                     194.0\n",
      "Date:                Tue, 15 Mar 2022   Prob (F-statistic):          8.95e-179\n",
      "Time:                        13:26:28   Log-Likelihood:                 482.05\n",
      "No. Observations:                 510   AIC:                            -938.1\n",
      "Df Residuals:                     497   BIC:                            -883.1\n",
      "Df Model:                          12                                         \n",
      "Covariance Type:            nonrobust                                         \n",
      "==================================================================================\n",
      "                     coef    std err          t      P>|t|      [0.025      0.975]\n",
      "----------------------------------------------------------------------------------\n",
      "const              0.1572      0.039      3.988      0.000       0.080       0.235\n",
      "year               0.2314      0.009     27.012      0.000       0.215       0.248\n",
      "workingday         0.1086      0.027      4.003      0.000       0.055       0.162\n",
      "temp               0.5319      0.024     21.762      0.000       0.484       0.580\n",
      "humidity          -0.1360      0.040     -3.437      0.001      -0.214      -0.058\n",
      "windspeed         -0.1766      0.027     -6.521      0.000      -0.230      -0.123\n",
      "Winter             0.0957      0.011      8.599      0.000       0.074       0.118\n",
      "Jan               -0.0777      0.018     -4.358      0.000      -0.113      -0.043\n",
      "Sep                0.0766      0.016      4.772      0.000       0.045       0.108\n",
      "Sat                0.1170      0.029      4.079      0.000       0.061       0.173\n",
      "Sun                0.0622      0.029      2.159      0.031       0.006       0.119\n",
      "Mist Cloudy       -0.0521      0.011     -4.708      0.000      -0.074      -0.030\n",
      "Snow and Rainy    -0.2542      0.028     -9.139      0.000      -0.309      -0.200\n",
      "==============================================================================\n",
      "Omnibus:                       48.313   Durbin-Watson:                   2.054\n",
      "Prob(Omnibus):                  0.000   Jarque-Bera (JB):               95.208\n",
      "Skew:                          -0.564   Prob(JB):                     2.12e-21\n",
      "Kurtosis:                       4.791   Cond. No.                         23.6\n",
      "==============================================================================\n",
      "\n",
      "Notes:\n",
      "[1] Standard Errors assume that the covariance matrix of the errors is correctly specified.\n"
     ]
    }
   ],
   "source": [
    "print(lm2.summary())"
   ]
  },
  {
   "cell_type": "markdown",
   "id": "6d278273",
   "metadata": {},
   "source": [
    "##### Removing humidity due to high VIF value"
   ]
  },
  {
   "cell_type": "code",
   "execution_count": 127,
   "id": "ce5b25cd",
   "metadata": {},
   "outputs": [],
   "source": [
    "# Removing the humidity variable\n",
    "X_train_new = X_train_new.drop(['humidity'], axis=1)"
   ]
  },
  {
   "cell_type": "markdown",
   "id": "201a7c75",
   "metadata": {},
   "source": [
    "##### Model 3: Rebuilding the model"
   ]
  },
  {
   "cell_type": "code",
   "execution_count": 128,
   "id": "238d9c0f",
   "metadata": {},
   "outputs": [
    {
     "data": {
      "text/html": [
       "<div>\n",
       "<style scoped>\n",
       "    .dataframe tbody tr th:only-of-type {\n",
       "        vertical-align: middle;\n",
       "    }\n",
       "\n",
       "    .dataframe tbody tr th {\n",
       "        vertical-align: top;\n",
       "    }\n",
       "\n",
       "    .dataframe thead th {\n",
       "        text-align: right;\n",
       "    }\n",
       "</style>\n",
       "<table border=\"1\" class=\"dataframe\">\n",
       "  <thead>\n",
       "    <tr style=\"text-align: right;\">\n",
       "      <th></th>\n",
       "      <th>Features</th>\n",
       "      <th>VIF</th>\n",
       "    </tr>\n",
       "  </thead>\n",
       "  <tbody>\n",
       "    <tr>\n",
       "      <th>1</th>\n",
       "      <td>workingday</td>\n",
       "      <td>10.51</td>\n",
       "    </tr>\n",
       "    <tr>\n",
       "      <th>2</th>\n",
       "      <td>temp</td>\n",
       "      <td>8.48</td>\n",
       "    </tr>\n",
       "    <tr>\n",
       "      <th>3</th>\n",
       "      <td>windspeed</td>\n",
       "      <td>4.28</td>\n",
       "    </tr>\n",
       "    <tr>\n",
       "      <th>7</th>\n",
       "      <td>Sat</td>\n",
       "      <td>3.18</td>\n",
       "    </tr>\n",
       "    <tr>\n",
       "      <th>8</th>\n",
       "      <td>Sun</td>\n",
       "      <td>2.96</td>\n",
       "    </tr>\n",
       "    <tr>\n",
       "      <th>0</th>\n",
       "      <td>year</td>\n",
       "      <td>2.06</td>\n",
       "    </tr>\n",
       "    <tr>\n",
       "      <th>9</th>\n",
       "      <td>Mist Cloudy</td>\n",
       "      <td>1.57</td>\n",
       "    </tr>\n",
       "    <tr>\n",
       "      <th>4</th>\n",
       "      <td>Winter</td>\n",
       "      <td>1.48</td>\n",
       "    </tr>\n",
       "    <tr>\n",
       "      <th>5</th>\n",
       "      <td>Jan</td>\n",
       "      <td>1.40</td>\n",
       "    </tr>\n",
       "    <tr>\n",
       "      <th>6</th>\n",
       "      <td>Sep</td>\n",
       "      <td>1.16</td>\n",
       "    </tr>\n",
       "    <tr>\n",
       "      <th>10</th>\n",
       "      <td>Snow and Rainy</td>\n",
       "      <td>1.08</td>\n",
       "    </tr>\n",
       "  </tbody>\n",
       "</table>\n",
       "</div>"
      ],
      "text/plain": [
       "          Features    VIF\n",
       "1       workingday  10.51\n",
       "2             temp   8.48\n",
       "3        windspeed   4.28\n",
       "7              Sat   3.18\n",
       "8              Sun   2.96\n",
       "0             year   2.06\n",
       "9      Mist Cloudy   1.57\n",
       "4           Winter   1.48\n",
       "5              Jan   1.40\n",
       "6              Sep   1.16\n",
       "10  Snow and Rainy   1.08"
      ]
     },
     "execution_count": 128,
     "metadata": {},
     "output_type": "execute_result"
    }
   ],
   "source": [
    "# Calculating VIF for the new model\n",
    "vif = pd.DataFrame()\n",
    "vif['Features'] = X_train_new.columns\n",
    "vif['VIF'] = [variance_inflation_factor(X_train_new.values, i) for i in range(X_train_new.shape[1])]\n",
    "vif['VIF'] = round(vif['VIF'], 2)\n",
    "vif = vif.sort_values(by = \"VIF\", ascending=False)\n",
    "vif"
   ]
  },
  {
   "cell_type": "code",
   "execution_count": 129,
   "id": "e382f643",
   "metadata": {},
   "outputs": [],
   "source": [
    "#Adding a const variable\n",
    "X_train_lm3 = sm.add_constant(X_train_new)\n",
    "\n",
    "#Running the Linear Model\n",
    "lm3 = sm.OLS(y_train, X_train_lm3).fit()"
   ]
  },
  {
   "cell_type": "code",
   "execution_count": 130,
   "id": "932add3b",
   "metadata": {},
   "outputs": [
    {
     "name": "stdout",
     "output_type": "stream",
     "text": [
      "                            OLS Regression Results                            \n",
      "==============================================================================\n",
      "Dep. Variable:                  count   R-squared:                       0.820\n",
      "Model:                            OLS   Adj. R-squared:                  0.816\n",
      "Method:                 Least Squares   F-statistic:                     206.1\n",
      "Date:                Tue, 15 Mar 2022   Prob (F-statistic):          2.03e-177\n",
      "Time:                        13:27:08   Log-Likelihood:                 476.06\n",
      "No. Observations:                 510   AIC:                            -928.1\n",
      "Df Residuals:                     498   BIC:                            -877.3\n",
      "Df Model:                          11                                         \n",
      "Covariance Type:            nonrobust                                         \n",
      "==================================================================================\n",
      "                     coef    std err          t      P>|t|      [0.025      0.975]\n",
      "----------------------------------------------------------------------------------\n",
      "const              0.0807      0.033      2.455      0.014       0.016       0.145\n",
      "year               0.2346      0.009     27.248      0.000       0.218       0.252\n",
      "workingday         0.1094      0.027      3.989      0.000       0.056       0.163\n",
      "temp               0.5115      0.024     21.345      0.000       0.464       0.559\n",
      "windspeed         -0.1517      0.026     -5.752      0.000      -0.204      -0.100\n",
      "Winter             0.0881      0.011      7.989      0.000       0.066       0.110\n",
      "Jan               -0.0813      0.018     -4.518      0.000      -0.117      -0.046\n",
      "Sep                0.0727      0.016      4.491      0.000       0.041       0.104\n",
      "Sat                0.1194      0.029      4.121      0.000       0.062       0.176\n",
      "Sun                0.0605      0.029      2.076      0.038       0.003       0.118\n",
      "Mist Cloudy       -0.0740      0.009     -8.101      0.000      -0.092      -0.056\n",
      "Snow and Rainy    -0.2915      0.026    -11.257      0.000      -0.342      -0.241\n",
      "==============================================================================\n",
      "Omnibus:                       46.785   Durbin-Watson:                   2.037\n",
      "Prob(Omnibus):                  0.000   Jarque-Bera (JB):               87.783\n",
      "Skew:                          -0.564   Prob(JB):                     8.67e-20\n",
      "Kurtosis:                       4.690   Cond. No.                         20.3\n",
      "==============================================================================\n",
      "\n",
      "Notes:\n",
      "[1] Standard Errors assume that the covariance matrix of the errors is correctly specified.\n"
     ]
    }
   ],
   "source": [
    "print(lm3.summary())"
   ]
  },
  {
   "cell_type": "markdown",
   "id": "b4934f3e",
   "metadata": {},
   "source": [
    "##### Model 4: Rebuilding the model"
   ]
  },
  {
   "cell_type": "code",
   "execution_count": 131,
   "id": "9b70f43a",
   "metadata": {},
   "outputs": [],
   "source": [
    "# Removing the Sun variable due to high p-value\n",
    "X_train_new = X_train_new.drop(['Sun'], axis=1)"
   ]
  },
  {
   "cell_type": "code",
   "execution_count": 132,
   "id": "ccec27b9",
   "metadata": {},
   "outputs": [
    {
     "data": {
      "text/html": [
       "<div>\n",
       "<style scoped>\n",
       "    .dataframe tbody tr th:only-of-type {\n",
       "        vertical-align: middle;\n",
       "    }\n",
       "\n",
       "    .dataframe tbody tr th {\n",
       "        vertical-align: top;\n",
       "    }\n",
       "\n",
       "    .dataframe thead th {\n",
       "        text-align: right;\n",
       "    }\n",
       "</style>\n",
       "<table border=\"1\" class=\"dataframe\">\n",
       "  <thead>\n",
       "    <tr style=\"text-align: right;\">\n",
       "      <th></th>\n",
       "      <th>Features</th>\n",
       "      <th>VIF</th>\n",
       "    </tr>\n",
       "  </thead>\n",
       "  <tbody>\n",
       "    <tr>\n",
       "      <th>2</th>\n",
       "      <td>temp</td>\n",
       "      <td>4.99</td>\n",
       "    </tr>\n",
       "    <tr>\n",
       "      <th>1</th>\n",
       "      <td>workingday</td>\n",
       "      <td>4.24</td>\n",
       "    </tr>\n",
       "    <tr>\n",
       "      <th>3</th>\n",
       "      <td>windspeed</td>\n",
       "      <td>3.45</td>\n",
       "    </tr>\n",
       "    <tr>\n",
       "      <th>0</th>\n",
       "      <td>year</td>\n",
       "      <td>2.04</td>\n",
       "    </tr>\n",
       "    <tr>\n",
       "      <th>7</th>\n",
       "      <td>Sat</td>\n",
       "      <td>1.74</td>\n",
       "    </tr>\n",
       "    <tr>\n",
       "      <th>8</th>\n",
       "      <td>Mist Cloudy</td>\n",
       "      <td>1.54</td>\n",
       "    </tr>\n",
       "    <tr>\n",
       "      <th>4</th>\n",
       "      <td>Winter</td>\n",
       "      <td>1.31</td>\n",
       "    </tr>\n",
       "    <tr>\n",
       "      <th>5</th>\n",
       "      <td>Jan</td>\n",
       "      <td>1.24</td>\n",
       "    </tr>\n",
       "    <tr>\n",
       "      <th>6</th>\n",
       "      <td>Sep</td>\n",
       "      <td>1.15</td>\n",
       "    </tr>\n",
       "    <tr>\n",
       "      <th>9</th>\n",
       "      <td>Snow and Rainy</td>\n",
       "      <td>1.08</td>\n",
       "    </tr>\n",
       "  </tbody>\n",
       "</table>\n",
       "</div>"
      ],
      "text/plain": [
       "         Features   VIF\n",
       "2            temp  4.99\n",
       "1      workingday  4.24\n",
       "3       windspeed  3.45\n",
       "0            year  2.04\n",
       "7             Sat  1.74\n",
       "8     Mist Cloudy  1.54\n",
       "4          Winter  1.31\n",
       "5             Jan  1.24\n",
       "6             Sep  1.15\n",
       "9  Snow and Rainy  1.08"
      ]
     },
     "execution_count": 132,
     "metadata": {},
     "output_type": "execute_result"
    }
   ],
   "source": [
    "# Calculating VIF for the new model\n",
    "vif = pd.DataFrame()\n",
    "vif['Features'] = X_train_new.columns\n",
    "vif['VIF'] = [variance_inflation_factor(X_train_new.values, i) for i in range(X_train_new.shape[1])]\n",
    "vif['VIF'] = round(vif['VIF'], 2)\n",
    "vif = vif.sort_values(by = \"VIF\", ascending=False)\n",
    "vif"
   ]
  },
  {
   "cell_type": "code",
   "execution_count": 133,
   "id": "839cdf25",
   "metadata": {},
   "outputs": [],
   "source": [
    "#Adding a const variable\n",
    "X_train_lm4 = sm.add_constant(X_train_new)\n",
    "\n",
    "#Running the Linear Model\n",
    "lm4 = sm.OLS(y_train, X_train_lm4).fit()"
   ]
  },
  {
   "cell_type": "code",
   "execution_count": 181,
   "id": "b25c4787",
   "metadata": {},
   "outputs": [
    {
     "name": "stdout",
     "output_type": "stream",
     "text": [
      "                            OLS Regression Results                            \n",
      "==============================================================================\n",
      "Dep. Variable:                  count   R-squared:                       0.818\n",
      "Model:                            OLS   Adj. R-squared:                  0.815\n",
      "Method:                 Least Squares   F-statistic:                     224.8\n",
      "Date:                Tue, 15 Mar 2022   Prob (F-statistic):          1.12e-177\n",
      "Time:                        23:29:58   Log-Likelihood:                 473.87\n",
      "No. Observations:                 510   AIC:                            -925.7\n",
      "Df Residuals:                     499   BIC:                            -879.2\n",
      "Df Model:                          10                                         \n",
      "Covariance Type:            nonrobust                                         \n",
      "==================================================================================\n",
      "                     coef    std err          t      P>|t|      [0.025      0.975]\n",
      "----------------------------------------------------------------------------------\n",
      "const              0.1317      0.022      5.991      0.000       0.088       0.175\n",
      "year               0.2348      0.009     27.178      0.000       0.218       0.252\n",
      "workingday         0.0579      0.012      4.936      0.000       0.035       0.081\n",
      "temp               0.5133      0.024     21.366      0.000       0.466       0.561\n",
      "windspeed         -0.1528      0.026     -5.776      0.000      -0.205      -0.101\n",
      "Winter             0.0874      0.011      7.902      0.000       0.066       0.109\n",
      "Jan               -0.0822      0.018     -4.555      0.000      -0.118      -0.047\n",
      "Sep                0.0704      0.016      4.343      0.000       0.039       0.102\n",
      "Sat                0.0680      0.015      4.502      0.000       0.038       0.098\n",
      "Mist Cloudy       -0.0735      0.009     -8.015      0.000      -0.091      -0.055\n",
      "Snow and Rainy    -0.2902      0.026    -11.172      0.000      -0.341      -0.239\n",
      "==============================================================================\n",
      "Omnibus:                       50.345   Durbin-Watson:                   2.012\n",
      "Prob(Omnibus):                  0.000   Jarque-Bera (JB):               97.234\n",
      "Skew:                          -0.592   Prob(JB):                     7.69e-22\n",
      "Kurtosis:                       4.781   Cond. No.                         13.0\n",
      "==============================================================================\n",
      "\n",
      "Notes:\n",
      "[1] Standard Errors assume that the covariance matrix of the errors is correctly specified.\n"
     ]
    }
   ],
   "source": [
    "print(lm4.summary())"
   ]
  },
  {
   "cell_type": "markdown",
   "id": "12b3c864",
   "metadata": {},
   "source": [
    "##### Model 5: Rebuilding the model"
   ]
  },
  {
   "cell_type": "code",
   "execution_count": 182,
   "id": "b0facd0c",
   "metadata": {},
   "outputs": [],
   "source": [
    "# Removing the workingday variable due to high VIF\n",
    "X_train_new = X_train_new.drop(['workingday'], axis=1)"
   ]
  },
  {
   "cell_type": "code",
   "execution_count": 183,
   "id": "dcd475ea",
   "metadata": {},
   "outputs": [
    {
     "data": {
      "text/html": [
       "<div>\n",
       "<style scoped>\n",
       "    .dataframe tbody tr th:only-of-type {\n",
       "        vertical-align: middle;\n",
       "    }\n",
       "\n",
       "    .dataframe tbody tr th {\n",
       "        vertical-align: top;\n",
       "    }\n",
       "\n",
       "    .dataframe thead th {\n",
       "        text-align: right;\n",
       "    }\n",
       "</style>\n",
       "<table border=\"1\" class=\"dataframe\">\n",
       "  <thead>\n",
       "    <tr style=\"text-align: right;\">\n",
       "      <th></th>\n",
       "      <th>Features</th>\n",
       "      <th>VIF</th>\n",
       "    </tr>\n",
       "  </thead>\n",
       "  <tbody>\n",
       "    <tr>\n",
       "      <th>1</th>\n",
       "      <td>temp</td>\n",
       "      <td>3.61</td>\n",
       "    </tr>\n",
       "    <tr>\n",
       "      <th>2</th>\n",
       "      <td>windspeed</td>\n",
       "      <td>3.18</td>\n",
       "    </tr>\n",
       "    <tr>\n",
       "      <th>0</th>\n",
       "      <td>year</td>\n",
       "      <td>2.03</td>\n",
       "    </tr>\n",
       "    <tr>\n",
       "      <th>7</th>\n",
       "      <td>Mist Cloudy</td>\n",
       "      <td>1.50</td>\n",
       "    </tr>\n",
       "    <tr>\n",
       "      <th>3</th>\n",
       "      <td>Winter</td>\n",
       "      <td>1.28</td>\n",
       "    </tr>\n",
       "    <tr>\n",
       "      <th>6</th>\n",
       "      <td>Sat</td>\n",
       "      <td>1.18</td>\n",
       "    </tr>\n",
       "    <tr>\n",
       "      <th>4</th>\n",
       "      <td>Jan</td>\n",
       "      <td>1.17</td>\n",
       "    </tr>\n",
       "    <tr>\n",
       "      <th>5</th>\n",
       "      <td>Sep</td>\n",
       "      <td>1.15</td>\n",
       "    </tr>\n",
       "    <tr>\n",
       "      <th>8</th>\n",
       "      <td>Snow and Rainy</td>\n",
       "      <td>1.08</td>\n",
       "    </tr>\n",
       "  </tbody>\n",
       "</table>\n",
       "</div>"
      ],
      "text/plain": [
       "         Features   VIF\n",
       "1            temp  3.61\n",
       "2       windspeed  3.18\n",
       "0            year  2.03\n",
       "7     Mist Cloudy  1.50\n",
       "3          Winter  1.28\n",
       "6             Sat  1.18\n",
       "4             Jan  1.17\n",
       "5             Sep  1.15\n",
       "8  Snow and Rainy  1.08"
      ]
     },
     "execution_count": 183,
     "metadata": {},
     "output_type": "execute_result"
    }
   ],
   "source": [
    "# Calculating VIF for the new model\n",
    "vif = pd.DataFrame()\n",
    "vif['Features'] = X_train_new.columns\n",
    "vif['VIF'] = [variance_inflation_factor(X_train_new.values, i) for i in range(X_train_new.shape[1])]\n",
    "vif['VIF'] = round(vif['VIF'], 2)\n",
    "vif = vif.sort_values(by = \"VIF\", ascending=False)\n",
    "vif"
   ]
  },
  {
   "cell_type": "code",
   "execution_count": 185,
   "id": "fe35e59c",
   "metadata": {},
   "outputs": [],
   "source": [
    "#Adding a const variable\n",
    "X_train_lm5 = sm.add_constant(X_train_new)\n",
    "\n",
    "#Running the Linear Model\n",
    "lm5 = sm.OLS(y_train, X_train_lm5).fit()"
   ]
  },
  {
   "cell_type": "code",
   "execution_count": 186,
   "id": "f7a9a0e8",
   "metadata": {},
   "outputs": [
    {
     "name": "stdout",
     "output_type": "stream",
     "text": [
      "                            OLS Regression Results                            \n",
      "==============================================================================\n",
      "Dep. Variable:                  count   R-squared:                       0.809\n",
      "Model:                            OLS   Adj. R-squared:                  0.806\n",
      "Method:                 Least Squares   F-statistic:                     236.1\n",
      "Date:                Tue, 15 Mar 2022   Prob (F-statistic):          9.94e-174\n",
      "Time:                        23:33:13   Log-Likelihood:                 461.71\n",
      "No. Observations:                 510   AIC:                            -903.4\n",
      "Df Residuals:                     500   BIC:                            -861.1\n",
      "Df Model:                           9                                         \n",
      "Covariance Type:            nonrobust                                         \n",
      "==================================================================================\n",
      "                     coef    std err          t      P>|t|      [0.025      0.975]\n",
      "----------------------------------------------------------------------------------\n",
      "const              0.1758      0.021      8.561      0.000       0.135       0.216\n",
      "year               0.2353      0.009     26.627      0.000       0.218       0.253\n",
      "temp               0.5170      0.025     21.045      0.000       0.469       0.565\n",
      "windspeed         -0.1550      0.027     -5.726      0.000      -0.208      -0.102\n",
      "Winter             0.0842      0.011      7.454      0.000       0.062       0.106\n",
      "Jan               -0.0827      0.018     -4.479      0.000      -0.119      -0.046\n",
      "Sep                0.0705      0.017      4.253      0.000       0.038       0.103\n",
      "Sat                0.0218      0.012      1.797      0.073      -0.002       0.046\n",
      "Mist Cloudy       -0.0701      0.009     -7.496      0.000      -0.088      -0.052\n",
      "Snow and Rainy    -0.2821      0.027    -10.637      0.000      -0.334      -0.230\n",
      "==============================================================================\n",
      "Omnibus:                       57.251   Durbin-Watson:                   1.975\n",
      "Prob(Omnibus):                  0.000   Jarque-Bera (JB):              105.352\n",
      "Skew:                          -0.681   Prob(JB):                     1.33e-23\n",
      "Kurtosis:                       4.762   Cond. No.                         11.5\n",
      "==============================================================================\n",
      "\n",
      "Notes:\n",
      "[1] Standard Errors assume that the covariance matrix of the errors is correctly specified.\n"
     ]
    }
   ],
   "source": [
    "print(lm5.summary())"
   ]
  },
  {
   "cell_type": "markdown",
   "id": "a41bbe02",
   "metadata": {},
   "source": [
    "### Vision/Highlights from above model:\n",
    "\n",
    "* The last/final model seems to have very less multicollinearity between the predictors.\n",
    "* The VIF and p-values also seems to be significiant.\n",
    "* F-Statistics value of 236.1 (which is greater than 1).\n",
    "* R-Square value is 0.809 or 80.9%\n",
    "* Adjusted R-square is 0.806 or 80.6%"
   ]
  },
  {
   "cell_type": "markdown",
   "id": "7e1990ab",
   "metadata": {},
   "source": [
    "#### Checking variuos assumptions:"
   ]
  },
  {
   "cell_type": "code",
   "execution_count": 196,
   "id": "85075461",
   "metadata": {},
   "outputs": [],
   "source": [
    "#Residual Analysis Of Training Data\n",
    "y_train_pred = lm5.predict(X_train_lm5)"
   ]
  },
  {
   "cell_type": "code",
   "execution_count": 197,
   "id": "9b28dd08",
   "metadata": {},
   "outputs": [],
   "source": [
    "%matplotlib inline"
   ]
  },
  {
   "cell_type": "code",
   "execution_count": 198,
   "id": "6f0d4d78",
   "metadata": {},
   "outputs": [
    {
     "data": {
      "text/plain": [
       "Text(0.5, 0, 'Errors')"
      ]
     },
     "execution_count": 198,
     "metadata": {},
     "output_type": "execute_result"
    },
    {
     "data": {
      "image/png": "[encoded data removed]",
      "text/plain": [
       "<Figure size 432x288 with 1 Axes>"
      ]
     },
     "metadata": {
      "needs_background": "light"
     },
     "output_type": "display_data"
    }
   ],
   "source": [
    "# Plot a histogram for error terms\n",
    "fig = plt.figure()\n",
    "sns.distplot((y_train - y_train_pred), bins=20)\n",
    "fig.suptitle('Error Terms', fontsize = 20)\n",
    "plt.xlabel('Errors', fontsize=18)"
   ]
  },
  {
   "cell_type": "markdown",
   "id": "711453fb",
   "metadata": {},
   "source": [
    "##### Above histogram shows, Residuals are normally distributed so our assumptions satifies our model"
   ]
  },
  {
   "cell_type": "markdown",
   "id": "99b9bb5d",
   "metadata": {},
   "source": [
    "#### Making predections:"
   ]
  },
  {
   "cell_type": "code",
   "execution_count": 200,
   "id": "9ea97573",
   "metadata": {},
   "outputs": [],
   "source": [
    "# Selecting the variables part of the Final Model\n",
    "col1 = X_train_new.columns\n",
    "X_test = X_test[col1]"
   ]
  },
  {
   "cell_type": "code",
   "execution_count": 201,
   "id": "84a2621c",
   "metadata": {},
   "outputs": [
    {
     "data": {
      "text/html": [
       "<div>\n",
       "<style scoped>\n",
       "    .dataframe tbody tr th:only-of-type {\n",
       "        vertical-align: middle;\n",
       "    }\n",
       "\n",
       "    .dataframe tbody tr th {\n",
       "        vertical-align: top;\n",
       "    }\n",
       "\n",
       "    .dataframe thead th {\n",
       "        text-align: right;\n",
       "    }\n",
       "</style>\n",
       "<table border=\"1\" class=\"dataframe\">\n",
       "  <thead>\n",
       "    <tr style=\"text-align: right;\">\n",
       "      <th></th>\n",
       "      <th>const</th>\n",
       "      <th>year</th>\n",
       "      <th>temp</th>\n",
       "      <th>windspeed</th>\n",
       "      <th>Winter</th>\n",
       "      <th>Jan</th>\n",
       "      <th>Sep</th>\n",
       "      <th>Sat</th>\n",
       "      <th>Mist Cloudy</th>\n",
       "      <th>Snow and Rainy</th>\n",
       "    </tr>\n",
       "  </thead>\n",
       "  <tbody>\n",
       "    <tr>\n",
       "      <th>184</th>\n",
       "      <td>1.0</td>\n",
       "      <td>0</td>\n",
       "      <td>0.831783</td>\n",
       "      <td>0.084219</td>\n",
       "      <td>0</td>\n",
       "      <td>0</td>\n",
       "      <td>0</td>\n",
       "      <td>0</td>\n",
       "      <td>1</td>\n",
       "      <td>0</td>\n",
       "    </tr>\n",
       "    <tr>\n",
       "      <th>535</th>\n",
       "      <td>1.0</td>\n",
       "      <td>1</td>\n",
       "      <td>0.901354</td>\n",
       "      <td>0.153728</td>\n",
       "      <td>0</td>\n",
       "      <td>0</td>\n",
       "      <td>0</td>\n",
       "      <td>0</td>\n",
       "      <td>0</td>\n",
       "      <td>0</td>\n",
       "    </tr>\n",
       "    <tr>\n",
       "      <th>299</th>\n",
       "      <td>1.0</td>\n",
       "      <td>0</td>\n",
       "      <td>0.511964</td>\n",
       "      <td>0.334206</td>\n",
       "      <td>1</td>\n",
       "      <td>0</td>\n",
       "      <td>0</td>\n",
       "      <td>0</td>\n",
       "      <td>1</td>\n",
       "      <td>0</td>\n",
       "    </tr>\n",
       "    <tr>\n",
       "      <th>221</th>\n",
       "      <td>1.0</td>\n",
       "      <td>0</td>\n",
       "      <td>0.881625</td>\n",
       "      <td>0.339570</td>\n",
       "      <td>0</td>\n",
       "      <td>0</td>\n",
       "      <td>0</td>\n",
       "      <td>0</td>\n",
       "      <td>0</td>\n",
       "      <td>0</td>\n",
       "    </tr>\n",
       "    <tr>\n",
       "      <th>152</th>\n",
       "      <td>1.0</td>\n",
       "      <td>0</td>\n",
       "      <td>0.817246</td>\n",
       "      <td>0.537414</td>\n",
       "      <td>0</td>\n",
       "      <td>0</td>\n",
       "      <td>0</td>\n",
       "      <td>0</td>\n",
       "      <td>0</td>\n",
       "      <td>0</td>\n",
       "    </tr>\n",
       "  </tbody>\n",
       "</table>\n",
       "</div>"
      ],
      "text/plain": [
       "     const  year      temp  windspeed  Winter  Jan  Sep  Sat  Mist Cloudy  \\\n",
       "184    1.0     0  0.831783   0.084219       0    0    0    0            1   \n",
       "535    1.0     1  0.901354   0.153728       0    0    0    0            0   \n",
       "299    1.0     0  0.511964   0.334206       1    0    0    0            1   \n",
       "221    1.0     0  0.881625   0.339570       0    0    0    0            0   \n",
       "152    1.0     0  0.817246   0.537414       0    0    0    0            0   \n",
       "\n",
       "     Snow and Rainy  \n",
       "184               0  \n",
       "535               0  \n",
       "299               0  \n",
       "221               0  \n",
       "152               0  "
      ]
     },
     "execution_count": 201,
     "metadata": {},
     "output_type": "execute_result"
    }
   ],
   "source": [
    "# Adding constant variable for test dataframe\n",
    "X_test_lm5 = sm.add_constant(X_test)\n",
    "X_test_lm5.head()"
   ]
  },
  {
   "cell_type": "code",
   "execution_count": 202,
   "id": "c75f493d",
   "metadata": {},
   "outputs": [],
   "source": [
    "# Making Predection\n",
    "y_pred = lm5.predict(X_test_lm5)"
   ]
  },
  {
   "cell_type": "code",
   "execution_count": 203,
   "id": "c753086d",
   "metadata": {},
   "outputs": [
    {
     "data": {
      "image/png": "[encoded data removed]",
      "text/plain": [
       "<Figure size 432x288 with 1 Axes>"
      ]
     },
     "metadata": {
      "needs_background": "light"
     },
     "output_type": "display_data"
    }
   ],
   "source": [
    "# Plotting y_test and y_pred to understand the spread\n",
    "fig = plt.figure()\n",
    "sns.regplot(x=y_test,y=y_pred,fit_reg=True,line_kws={\"color\": \"red\"})\n",
    "plt.title('y_test vs y_pred', fontsize=20)\n",
    "plt.xlabel('y_test', fontsize=18)\n",
    "plt.ylabel('y_pred', fontsize=16)\n",
    "plt.show()"
   ]
  },
  {
   "cell_type": "markdown",
   "id": "59868a0c",
   "metadata": {},
   "source": [
    "#### Check the Adjusted R-Square for both train & Test data:"
   ]
  },
  {
   "cell_type": "code",
   "execution_count": 204,
   "id": "63b97a7e",
   "metadata": {},
   "outputs": [
    {
     "data": {
      "text/plain": [
       "(220, 10)"
      ]
     },
     "execution_count": 204,
     "metadata": {},
     "output_type": "execute_result"
    }
   ],
   "source": [
    "X_test_new = X_test[X_train_new.columns]\n",
    "X_test_new1 = sm.add_constant(X_test_new)\n",
    "X_test_new1.shape"
   ]
  },
  {
   "cell_type": "code",
   "execution_count": 209,
   "id": "05b0d431",
   "metadata": {},
   "outputs": [
    {
     "data": {
      "text/plain": [
       "0.7680440267046746"
      ]
     },
     "execution_count": 209,
     "metadata": {},
     "output_type": "execute_result"
    }
   ],
   "source": [
    "# Evaluate R-square from the test\n",
    "from sklearn.metrics import r2_score\n",
    "r2 = r2_score(y_test, y_pred)\n",
    "r2"
   ]
  },
  {
   "cell_type": "code",
   "execution_count": 210,
   "id": "c7fdc225",
   "metadata": {},
   "outputs": [
    {
     "data": {
      "text/plain": [
       "0.7569456547766686"
      ]
     },
     "execution_count": 210,
     "metadata": {},
     "output_type": "execute_result"
    }
   ],
   "source": [
    "n = X_test_new1.shape[0]      # n is number of rows in X_test_new\n",
    "\n",
    "p = X_test_new1.shape[1]     # p= Number of features/predictors which is number of columns in X_test_new\n",
    "\n",
    "# Calculating Adjusted R-squared value using the formula\n",
    "\n",
    "adjusted_r2 = 1-(1-r2)*(n-1)/(n-p-1)\n",
    "adjusted_r2"
   ]
  },
  {
   "cell_type": "markdown",
   "id": "19dce4e8",
   "metadata": {},
   "source": [
    "##### Compare the results on Train and Test datasets: "
   ]
  },
  {
   "cell_type": "markdown",
   "id": "ddf36c77",
   "metadata": {},
   "source": [
    "- Train Data Set:\n",
    "    * R-squared:          80.9%\n",
    "    * Adj. R-squared:     80.6%\n",
    "- Test Data Set:\n",
    "    * R-squared:          76.8%\n",
    "    * Adj. R-squared:     75.7%"
   ]
  },
  {
   "cell_type": "markdown",
   "id": "a2b4b9ce",
   "metadata": {},
   "source": [
    "###### Deference between R2 for Train and Test is 4.1% which is less then 5%. So we can say that it is the best model\n",
    "###### Deference between Adjusted R2 for Train and Test is 4.9% which is less then 5%. So we can say that it is the best model\n",
    "###### Temperature could be a prime factor for making decision\n",
    "###### We can see that demand of bikes is more in 2019 compare to 2018"
   ]
  }
 ],
 "metadata": {
  "kernelspec": {
   "display_name": "Python 3 (ipykernel)",
   "language": "python",
   "name": "python3"
  },
  "language_info": {
   "codemirror_mode": {
    "name": "ipython",
    "version": 3
   },
   "file_extension": ".py",
   "mimetype": "text/x-python",
   "name": "python",
   "nbconvert_exporter": "python",
   "pygments_lexer": "ipython3",
   "version": "3.10.0"
  }
 },
 "nbformat": 4,
 "nbformat_minor": 5
}
